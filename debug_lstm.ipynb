{
 "cells": [
  {
   "metadata": {
    "ExecuteTime": {
     "end_time": "2025-02-22T20:09:03.363778Z",
     "start_time": "2025-02-22T20:09:03.355391Z"
    }
   },
   "cell_type": "code",
   "source": [
    "import torch\n",
    "\n",
    "device = torch.device(\"cuda\" if torch.cuda.is_available() else \"cpu\")\n",
    "# device = \"cpu\"\n",
    "print(\"device: \", device)\n",
    "\n",
    "torch.__version__"
   ],
   "id": "3c4b46f311a59e35",
   "outputs": [
    {
     "name": "stdout",
     "output_type": "stream",
     "text": [
      "device:  cuda\n"
     ]
    },
    {
     "data": {
      "text/plain": [
       "'2.5.1'"
      ]
     },
     "execution_count": 97,
     "metadata": {},
     "output_type": "execute_result"
    }
   ],
   "execution_count": 97
  },
  {
   "metadata": {
    "collapsed": true,
    "ExecuteTime": {
     "end_time": "2025-02-22T20:10:06.523107Z",
     "start_time": "2025-02-22T20:09:03.838215Z"
    }
   },
   "cell_type": "code",
   "source": [
    "import numpy as np\n",
    "import os\n",
    "import pandas as pd\n",
    "import matplotlib.pyplot as plt\n",
    "from torch.utils.data import Dataset, DataLoader\n",
    "# Константы\n",
    "num_trajectories = 368  # Количество траекторий\n",
    "num_radars = 16  # Количество радаров\n",
    "data_path = 'last_data'  # Путь к данным\n",
    "# input_features = ['x_measure', 'y_measure', 'z_measure',\n",
    "#                   'v_x_measure', 'v_y_measure', 'v_z_measure',\n",
    "# \n",
    "#                   'r_measure', 'theta_measure', 'fi_measure',\n",
    "#                   'v_r_measure', 'v_theta_measure', 'v_fi_measure',\n",
    "# \n",
    "#                   'r_mean', 'theta_mean', 'fi_mean',\n",
    "#                   'r_error', 'theta_error', 'fi_error',\n",
    "#                   ]  # Входные признаки\n",
    "\n",
    "input_features = ['x_measure', 'v_x_measure', 'r_measure', 'theta_measure', 'fi_measure',\n",
    "                  'r_mean', 'theta_mean', 'fi_mean',\n",
    "                  'r_error', 'theta_error', 'fi_error']  # Входные признаки\n",
    "\n",
    "# input_features = ['x_measure','theta_mean']\n",
    "target_feature = 'x_true'  # Целевая координата\n",
    "\n",
    "def load_trajectory_data(traj_idx):\n",
    "    trajectory_data = []\n",
    "    for radar_idx in range(1, num_radars + 1):\n",
    "        file_path = os.path.join(data_path, f'traj{traj_idx}_radar{radar_idx}.csv')\n",
    "        df = pd.read_csv(file_path)\n",
    "        trajectory_data.append(df)\n",
    "    \n",
    "    # Объединение данных по временной оси для одного радара\n",
    "    return trajectory_data\n",
    "\n",
    "# Подготовка данных\n",
    "X_data, y_data = [], []\n",
    "\n",
    "for traj_idx in range(1, num_trajectories + 1):\n",
    "    trajectory_data = load_trajectory_data(traj_idx)\n",
    "    \n",
    "    # Для каждого радара, собираем последовательность (seq_length, num_features)\n",
    "    radar_data = []\n",
    "    radar_targets = []  # Список для целевых значений для каждого радара\n",
    "    for radar_idx in range(num_radars):\n",
    "        data = trajectory_data[radar_idx]\n",
    "        X = data[input_features].values  # Входные данные для радарa\n",
    "        y = data[target_feature].values  # Истинная координата\n",
    "        \n",
    "        radar_data.append(X)\n",
    "        radar_targets.append(y)\n",
    "    \n",
    "    # Преобразуем данные в форму (num_radars, seq_length, num_features)\n",
    "    X_data.append(np.array(radar_data))  # (num_radars, seq_length, num_features)\n",
    "    y_data.append(np.array(radar_targets)) # (num_radars, seq_length)\n",
    "\n",
    "# Преобразуем в numpy массивы\n",
    "X_data = np.array(X_data)  # (num_trajectories, num_radars, seq_length, num_features)\n",
    "y_data = np.array(y_data)  # (num_trajectories, num_radars, seq_length)\n",
    "\n",
    "# Заменяем NaN на 0 и Inf на большое число\n",
    "X_data = np.nan_to_num(X_data, nan=0.0, posinf=1e6, neginf=-1e6)\n",
    "y_data = np.nan_to_num(y_data, nan=0.0, posinf=1e6, neginf=-1e6)\n",
    "\n",
    "# Теперь транспонируем X_data, y_data чтобы размерность стала (num_trajectories * num_radars, seq_length, num_features)\n",
    "# X_data_raw = X_data.reshape(-1, X_data.shape[2], X_data.shape[3])  # (num_trajectories * num_radars, seq_length, num_features)\n",
    "# y_data_raw = y_data.reshape(-1, y_data.shape[2])  # (num_trajectories * num_radars, seq_length)\n",
    "\n",
    "# Проверим размерность данных\n",
    "# print(X_data_raw.shape)  # (368*16, seq_length, num_features) \n",
    "# print(y_data_raw.shape)  # (368*16, seq_length)\n",
    "print(X_data.shape)  # (368*16, seq_length, num_features) \n",
    "print(y_data.shape)  # (368*16, seq_length)\n"
   ],
   "id": "initial_id",
   "outputs": [
    {
     "name": "stdout",
     "output_type": "stream",
     "text": [
      "(368, 16, 1001, 11)\n",
      "(368, 16, 1001)\n"
     ]
    }
   ],
   "execution_count": 98
  },
  {
   "metadata": {
    "ExecuteTime": {
     "end_time": "2025-02-22T20:10:06.706001Z",
     "start_time": "2025-02-22T20:10:06.626473Z"
    }
   },
   "cell_type": "code",
   "source": [
    "train_size = int(0.8 * len(X_data))\n",
    "X_train, X_test = X_data[:train_size], X_data[train_size:]\n",
    "y_train, y_test = y_data[:train_size], y_data[train_size:]\n",
    "print(X_train.shape, X_test.shape)"
   ],
   "id": "9325e7b5160572d1",
   "outputs": [
    {
     "name": "stdout",
     "output_type": "stream",
     "text": [
      "(294, 16, 1001, 11) (74, 16, 1001, 11)\n"
     ]
    }
   ],
   "execution_count": 99
  },
  {
   "metadata": {
    "ExecuteTime": {
     "end_time": "2025-02-22T20:10:06.885630Z",
     "start_time": "2025-02-22T20:10:06.876736Z"
    }
   },
   "cell_type": "code",
   "source": [
    "class RadarDataset(Dataset):\n",
    "    def __init__(self, X, y, window_size=234, step=12):\n",
    "        self.windows_X = []\n",
    "        self.windows_y = []\n",
    "        \n",
    "        for trajectory_idx in range(X.shape[0]):  # 368 траекторий\n",
    "            trajectory_X = X[trajectory_idx]  # (16, 1001, 11)\n",
    "            trajectory_y = y[trajectory_idx]  # (16, 1001)\n",
    "            \n",
    "            # Конкатенируем данные от 16 радаров\n",
    "            trajectory_X = trajectory_X.transpose(1, 0, 2).reshape(1001, -1)  # (1001, 11*16)\n",
    "            trajectory_y = trajectory_y.mean(axis=0)  # Среднее значение x для всех радаров (1001,)\n",
    "            \n",
    "            for start in range(0, 1001 - window_size, step):\n",
    "                end = start + window_size\n",
    "                self.windows_X.append(trajectory_X[start:end, :])\n",
    "                self.windows_y.append(trajectory_y[end-1])\n",
    "        \n",
    "        self.windows_X = torch.tensor(np.array(self.windows_X), dtype=torch.float32)\n",
    "        self.windows_y = torch.tensor(np.array(self.windows_y), dtype=torch.float32)\n",
    "        \n",
    "    def __len__(self):\n",
    "        return len(self.windows_X)\n",
    "    \n",
    "    def __getitem__(self, idx):\n",
    "        return self.windows_X[idx], self.windows_y[idx]\n",
    "    \n"
   ],
   "id": "972aeb1bb1ea2542",
   "outputs": [],
   "execution_count": 100
  },
  {
   "metadata": {
    "ExecuteTime": {
     "end_time": "2025-02-22T20:10:07.060392Z",
     "start_time": "2025-02-22T20:10:07.054424Z"
    }
   },
   "cell_type": "code",
   "source": [
    "# from sklearn.preprocessing import StandardScaler\n",
    "# import torch\n",
    "# \n",
    "# # Создаем скейлеры\n",
    "# X_scaler = StandardScaler()\n",
    "# y_scaler = StandardScaler()\n",
    "# \n",
    "# # Нормализация X (признаки)\n",
    "# X_train_scaled = X_train.copy()\n",
    "# X_test_scaled = X_test.copy()\n",
    "# \n",
    "# for i in range(16):  # По всем радарам отдельно\n",
    "#     X_train_scaled[:, i, :, :] = torch.tensor(\n",
    "#         X_scaler.fit_transform(X_train[:, i, :, :].reshape(-1, 11)).reshape(1001, 11),\n",
    "#         dtype=torch.float32\n",
    "#     )\n",
    "#     X_test_scaled[:, i, :, :] = torch.tensor(\n",
    "#         X_scaler.transform(X_test[:, i, :, :].reshape(-1, 11)).reshape(1001, 11),\n",
    "#         dtype=torch.float32\n",
    "#     )\n",
    "# \n",
    "# # Нормализация y (целевая переменная)\n",
    "# y_train_scaled = torch.tensor(\n",
    "#     y_scaler.fit_transform(y_train.reshape(-1, 1)).reshape(y_train.shape),\n",
    "#     dtype=torch.float32\n",
    "# )\n",
    "# y_test_scaled = torch.tensor(\n",
    "#     y_scaler.transform(y_test.reshape(-1, 1)).reshape(y_test.shape),\n",
    "#     dtype=torch.float32\n",
    "# )\n",
    "# \n",
    "# # Теперь передаем в RadarDataset\n",
    "# train_dataset = RadarDataset(X_train_scaled, y_train_scaled)\n",
    "# test_dataset = RadarDataset(X_test_scaled, y_test_scaled)\n"
   ],
   "id": "cb403bb2816a1724",
   "outputs": [],
   "execution_count": 101
  },
  {
   "metadata": {
    "ExecuteTime": {
     "end_time": "2025-02-22T20:10:33.950214Z",
     "start_time": "2025-02-22T20:10:33.941655Z"
    }
   },
   "cell_type": "code",
   "source": [
    "# #################################### NORMALIZE ####################################################\n",
    "# \n",
    "# from sklearn.preprocessing import StandardScaler\n",
    "# \n",
    "# # Нормализуем данные\n",
    "# train_scaler = StandardScaler()\n",
    "# test_scaler = StandardScaler()\n",
    "# # Пример нормализации для X (признаки)\n",
    "# X_train_scaled = torch.tensor(train_scaler.fit_transform(X_train.reshape(-1, X_train.shape[-1])).reshape(X_train.shape), dtype=torch.float32)\n",
    "# X_test_scaled = torch.tensor(test_scaler.fit_transform(X_test.reshape(-1, X_test.shape[-1])).reshape(X_test.shape), dtype=torch.float32)\n",
    "# \n",
    "# # Для y (цели) можно тоже использовать нормализацию или просто масштабировать в тот же диапазон\n",
    "# y_train_scaled = torch.tensor(train_scaler.transform(y_train.reshape(-1, 1)).reshape(y_train.shape), dtype=torch.float32)\n",
    "# y_test_scaled = torch.tensor(test_scaler.transform(y_test.reshape(-1, 1)).reshape(y_test.shape), dtype=torch.float32)\n",
    "# \n",
    "# print(X_train_scaled.shape)\n",
    "# \n",
    "# \n",
    "# train_dataset = RadarDataset(X_train_scaled, y_train_scaled)\n",
    "# test_dataset = RadarDataset(X_test_scaled, y_test_scaled)"
   ],
   "id": "a2da54fb908840f7",
   "outputs": [],
   "execution_count": 105
  },
  {
   "metadata": {
    "ExecuteTime": {
     "end_time": "2025-02-22T20:10:18.794304Z",
     "start_time": "2025-02-22T20:10:07.257235Z"
    }
   },
   "cell_type": "code",
   "source": [
    "# Создание датасета и DataLoader\n",
    "train_dataset = RadarDataset(X_train, y_train)\n",
    "train_loader = DataLoader(train_dataset, batch_size=64, shuffle=False)\n",
    "\n",
    "test_dataset = RadarDataset(X_test, y_test)\n",
    "test_loader = DataLoader(test_dataset, batch_size=64, shuffle=False)\n",
    "\n",
    "# Пример батча\n",
    "print(len(train_loader), len(test_loader))\n",
    "for X_batch, y_batch in train_loader:\n",
    "    print(X_batch.shape)  # (16, seq_length, num_features) для каждого батча\n",
    "    # print(X_batch.view(-1, X_batch.shape[2], X_batch.shape[3]).shape)\n",
    "    print(y_batch.shape)  # (16, seq_length)\n",
    "    # print(y_batch.view(-1).shape)\n",
    "    print(X_batch[0][233][:17], y_batch[0])\n",
    "    break"
   ],
   "id": "c7123aee1fe6d66e",
   "outputs": [
    {
     "name": "stdout",
     "output_type": "stream",
     "text": [
      "294 74\n",
      "torch.Size([64, 234, 176])\n",
      "torch.Size([64])\n",
      "tensor([3.3451e+04, 8.7604e-02, 3.5428e+04, 1.5884e+00, 3.3514e-01, 0.0000e+00,\n",
      "        4.3740e-02, 0.0000e+00, 1.5183e+00, 2.1854e-03, 1.4503e-03, 3.3431e+04,\n",
      "        6.0621e-02, 3.5424e+04, 1.5645e+00, 3.3698e-01, 0.0000e+00]) tensor(33428.6992)\n"
     ]
    }
   ],
   "execution_count": 102
  },
  {
   "metadata": {
    "ExecuteTime": {
     "end_time": "2025-02-22T17:44:03.369822Z",
     "start_time": "2025-02-22T17:44:03.366322Z"
    }
   },
   "cell_type": "code",
   "outputs": [],
   "execution_count": null,
   "source": "",
   "id": "ef55fbdd2e837189"
  },
  {
   "metadata": {
    "ExecuteTime": {
     "end_time": "2025-02-22T17:44:03.508812Z",
     "start_time": "2025-02-22T17:44:03.504599Z"
    }
   },
   "cell_type": "code",
   "outputs": [],
   "execution_count": 48,
   "source": [
    "# def make_windows(X, y, window_size, step): \n",
    "#     windows_X = []\n",
    "#     windows_y = []\n",
    "#     for idx in range(X.shape[0]):\n",
    "#         trajectory_X = X[idx]  # (1001, 16)\n",
    "#         trajectory_y = y[idx]  # (1001)\n",
    "# \n",
    "#         for start in range(0, trajectory_X.shape[0] - window_size, step):\n",
    "#             end = start + window_size\n",
    "#             windows_X.append(trajectory_X[start:end, :])  # Окно данных\n",
    "#             windows_y.append(trajectory_y[end-1])  # Целевая координата в конце окна\n",
    "#     \n",
    "#     windows_X = np.array(windows_X)  # (16*количество окон, 100, 16)\n",
    "#     windows_y = np.array(windows_y)  # (16*количество окон,)\n",
    "#     \n",
    "#     return torch.tensor(windows_X, dtype=torch.float32), torch.tensor(windows_y, dtype=torch.float32)   \n",
    "#     \n",
    "# X_data, y_data  = make_windows(X_data_raw, y_data_raw, 234, 12) # check determ   \n",
    "# print(X_data.shape) \n",
    "# print(y_data.shape) \n",
    "# print(len(X_data))"
   ],
   "id": "d4cddb42c2b24d15"
  },
  {
   "metadata": {
    "ExecuteTime": {
     "end_time": "2025-02-22T17:44:03.622813Z",
     "start_time": "2025-02-22T17:44:03.618740Z"
    }
   },
   "cell_type": "code",
   "outputs": [],
   "execution_count": 49,
   "source": [
    "# from torch.utils.data import Dataset, DataLoader\n",
    "# import numpy as np\n",
    "# \n",
    "# class RadarDataset(Dataset):\n",
    "#     def __init__(self, X, y, window_size=1000):\n",
    "#         self.X = X\n",
    "#         self.y = y\n",
    "#         self.window_size = window_size\n",
    "#         \n",
    "#     def __len__(self):\n",
    "#         return self.X.shape[0]  # Количество траекторий\n",
    "#     \n",
    "#     def __getitem__(self, idx):\n",
    "#         return self.X[idx], self.y[idx]\n",
    "#     \n",
    "# # Параметры для DataLoader\n",
    "# window_size = 936 #если брать меньше, то больше обучающая выборка, но оперативы не хватает\n",
    "# batch_size = 128\n",
    "# \n",
    "# train_size = int(0.8 * len(X_data))\n",
    "# X_train, X_test = X_data[:train_size], X_data[train_size:]\n",
    "# y_train, y_test = y_data[:train_size], y_data[train_size:]\n",
    "# print(X_train.shape, X_test.shape)"
   ],
   "id": "bdaf0d9e5eb9db9a"
  },
  {
   "metadata": {
    "ExecuteTime": {
     "end_time": "2025-02-22T17:44:03.831675Z",
     "start_time": "2025-02-22T17:44:03.826577Z"
    }
   },
   "cell_type": "code",
   "source": [
    "# train_dataset = RadarDataset(X_train, y_train, window_size=window_size)\n",
    "# test_dataset = RadarDataset(X_test, y_test, window_size=window_size)\n",
    "# print(train_dataset[0][0].shape)\n",
    "# \n",
    "# train_loader = DataLoader(train_dataset, batch_size=batch_size, shuffle=True, drop_last=True)   # Не перемешиваем данные\n",
    "# test_loader = DataLoader(test_dataset, batch_size=batch_size, shuffle=False, drop_last=True) \n",
    "# \n",
    "# print(\"len of loaders\", len(train_loader), len(test_loader))\n",
    "# \n",
    "# # Пример батча\n",
    "# for X_batch, y_batch in train_loader:\n",
    "#     print(X_batch.shape)  # (16, seq_length, num_features) для каждого батча\n",
    "#     # print(X_batch.view(-1, X_batch.shape[2], X_batch.shape[3]).shape)\n",
    "#     print(y_batch.shape)  # (16, seq_length)\n",
    "#     # print(y_batch.view(-1).shape)\n",
    "#     print(X_batch[0][199], y_batch[0])\n",
    "#     break"
   ],
   "id": "39d8a1d914bd26dd",
   "outputs": [],
   "execution_count": 51
  },
  {
   "metadata": {},
   "cell_type": "markdown",
   "source": "----------------------------------------------------------------------------------------- MODEL --------------------------------------------------------------------------------",
   "id": "7e489442e3293c65"
  },
  {
   "metadata": {
    "ExecuteTime": {
     "end_time": "2025-02-22T20:11:29.179164Z",
     "start_time": "2025-02-22T20:11:29.168615Z"
    }
   },
   "cell_type": "code",
   "source": [
    "import torch.nn as nn\n",
    "\n",
    "# Функция инициализации весов с помощью метода Xavier\n",
    "def init_weights(m):\n",
    "    if isinstance(m, nn.LSTM):\n",
    "        for name, param in m.named_parameters():\n",
    "            if 'weight' in name:\n",
    "                nn.init.xavier_uniform_(param)  # Инициализация весов\n",
    "            elif 'bias' in name:\n",
    "                nn.init.constant_(param, 0)  # Инициализация смещений нулями\n",
    "    elif isinstance(m, nn.Linear):\n",
    "        nn.init.xavier_uniform_(m.weight)  # Инициализация весов\n",
    "        nn.init.constant_(m.bias, 0)  # Инициализация смещений нулями\n",
    "\n",
    "class LSTMModel(nn.Module):\n",
    "    def __init__(self, input_size=176, hidden_size=64, num_layers=2, output_size=1, dropout=0.3):\n",
    "        super(LSTMModel, self).__init__()\n",
    "        # LSTM слой\n",
    "        self.lstm = nn.LSTM(input_size, hidden_size, num_layers, batch_first=True, dropout=dropout)\n",
    "        # Полносвязный слой для предсказания координаты x\n",
    "        self.fc1 = nn.Linear(hidden_size, 64)\n",
    "        self.act1 = nn.ReLU()\n",
    "        self.fc2 = nn.Linear(64, output_size)\n",
    "        # self.fc1 = nn.Linear(hidden_size, output_size)\n",
    "        \n",
    "    def forward(self, x):\n",
    "        # x: [batch_size, seq_len, input_size]\n",
    "        lstm_out, _ = self.lstm(x)  # lstm_out: [batch_size, seq_len, hidden_size]\n",
    "        last_hidden_state = lstm_out[:, -1, :]  # Берем последний временной шаг\n",
    "        out = self.fc1(last_hidden_state)  # Прогнозируем координату x\n",
    "        out = self.act1(out)\n",
    "        out = self.fc2(out)\n",
    "        return out\n"
   ],
   "id": "81cf87ab2802d352",
   "outputs": [],
   "execution_count": 107
  },
  {
   "metadata": {},
   "cell_type": "markdown",
   "source": "---------------------------------------------------------------------------------- TRAIN ----------------------------------------------------------------------------------------",
   "id": "9cdb2e5e9794ee6c"
  },
  {
   "metadata": {
    "ExecuteTime": {
     "end_time": "2025-02-22T20:10:19.390411Z",
     "start_time": "2025-02-22T20:10:19.380575Z"
    }
   },
   "cell_type": "code",
   "source": [
    "from tqdm import tqdm\n",
    "def train(model, optimizer, scheduler, criterion, loader, epochs, clip_value=1.0):\n",
    "    history = []\n",
    "    # for epoch in tqdm(range(epochs)):\n",
    "    for epoch in range(epochs):\n",
    "        model.train()\n",
    "        running_loss = 0.0\n",
    "        for i, (inputs, targets) in enumerate(loader):\n",
    "        # for i, (inputs, targets) in tqdm(enumerate(loader), total=len(loader), desc=f'Epoch {epoch+1}/{epochs}'):\n",
    "            inputs = inputs.to(device)\n",
    "            targets = targets.to(device)\n",
    "            # inputs = inputs.view(-1, inputs.shape[2], inputs.shape[3]).to(device)\n",
    "            # targets = targets.view(-1).to(device)\n",
    "            # Прогноз\n",
    "            optimizer.zero_grad()\n",
    "            outputs = model(inputs)\n",
    "    \n",
    "            # Вычисление ошибки\n",
    "            loss = criterion(outputs.squeeze(), targets)\n",
    "            loss.backward()\n",
    "        \n",
    "            # Градиентный клипинг\n",
    "            torch.nn.utils.clip_grad_norm_(model.parameters(), clip_value)\n",
    "        \n",
    "            optimizer.step()\n",
    "    \n",
    "            running_loss += loss.item()\n",
    "            \n",
    "        scheduler.step()\n",
    "    \n",
    "        print(f'Epoch [{epoch+1}/{epochs}], Loss: {running_loss/len(loader):.6f}')\n",
    "        history.append(running_loss/len(loader))\n",
    "    return history, model\n",
    "    "
   ],
   "id": "a4bf72e770497083",
   "outputs": [],
   "execution_count": 104
  },
  {
   "metadata": {
    "ExecuteTime": {
     "end_time": "2025-02-22T17:57:49.261316Z",
     "start_time": "2025-02-22T17:49:48.295735Z"
    }
   },
   "cell_type": "code",
   "source": [
    "import torch.optim as optim\n",
    "from torch.optim import lr_scheduler\n",
    "\n",
    "# Инициализируем модель\n",
    "model = LSTMModel(input_size=176, hidden_size=128, num_layers=2, output_size=1)\n",
    "model.apply(init_weights)\n",
    "\n",
    "model.to(device)\n",
    "\n",
    "# Функция потерь и оптимизатор\n",
    "criterion = nn.MSELoss()\n",
    "# criterion = nn.SmoothL1Loss()\n",
    "optimizer = optim.Adam(model.parameters(), lr=0.01)\n",
    "exp_lr_scheduler = lr_scheduler.StepLR(optimizer, step_size=60, gamma=0.1)\n",
    "\n",
    "# Обучение\n",
    "num_epochs = 100\n",
    "training_history, trained_model = train(model, optimizer, exp_lr_scheduler, criterion, train_loader, num_epochs)\n",
    "\n",
    "plt.plot(np.arange(num_epochs), training_history)\n",
    "plt.title(\"Training loss\")\n",
    "plt.show()\n",
    "\n",
    "    \n",
    "torch.save(trained_model.state_dict(), './lstm_model.pth')\n",
    "trained_model.load_state_dict(torch.load('./lstm_model.pth', weights_only=True))"
   ],
   "id": "d45fcdab86379163",
   "outputs": [
    {
     "name": "stdout",
     "output_type": "stream",
     "text": [
      "Epoch [1/100], Loss: 6415811815.156463\n",
      "Epoch [2/100], Loss: 6372121278.088435\n",
      "Epoch [3/100], Loss: 6332771904.040816\n",
      "Epoch [4/100], Loss: 6292116630.986395\n",
      "Epoch [5/100], Loss: 6252479080.224490\n",
      "Epoch [6/100], Loss: 6213384519.142858\n",
      "Epoch [7/100], Loss: 6177214204.534014\n",
      "Epoch [8/100], Loss: 6139753980.636054\n",
      "Epoch [9/100], Loss: 6101393478.166667\n",
      "Epoch [10/100], Loss: 6062674878.605442\n",
      "Epoch [11/100], Loss: 6025743941.062925\n",
      "Epoch [12/100], Loss: 5991067335.265306\n",
      "Epoch [13/100], Loss: 5956496165.168367\n",
      "Epoch [14/100], Loss: 5923397859.013605\n",
      "Epoch [15/100], Loss: 5888747642.278912\n",
      "Epoch [16/100], Loss: 5852911135.032313\n",
      "Epoch [17/100], Loss: 5837652516.712585\n",
      "Epoch [18/100], Loss: 5785104194.374149\n",
      "Epoch [19/100], Loss: 5750928981.122449\n",
      "Epoch [20/100], Loss: 5724733325.227891\n",
      "Epoch [21/100], Loss: 5690101532.991497\n",
      "Epoch [22/100], Loss: 5674231023.428572\n",
      "Epoch [23/100], Loss: 5650490179.821428\n",
      "Epoch [24/100], Loss: 5616805944.670068\n",
      "Epoch [25/100], Loss: 5583616861.358844\n",
      "Epoch [26/100], Loss: 5546646683.255102\n",
      "Epoch [27/100], Loss: 5513278331.877551\n",
      "Epoch [28/100], Loss: 5486907001.872449\n",
      "Epoch [29/100], Loss: 5461032193.069728\n",
      "Epoch [30/100], Loss: 5425736026.937075\n",
      "Epoch [31/100], Loss: 5394221837.772109\n",
      "Epoch [32/100], Loss: 5363766153.108844\n",
      "Epoch [33/100], Loss: 5328434280.782313\n",
      "Epoch [34/100], Loss: 5299626591.261905\n",
      "Epoch [35/100], Loss: 5260641537.530612\n",
      "Epoch [36/100], Loss: 5228111721.758503\n",
      "Epoch [37/100], Loss: 5190874140.908163\n",
      "Epoch [38/100], Loss: 5160672717.268707\n",
      "Epoch [39/100], Loss: 5128042922.486395\n",
      "Epoch [40/100], Loss: 5098639127.632653\n",
      "Epoch [41/100], Loss: 5065119126.874149\n",
      "Epoch [42/100], Loss: 5038561415.819728\n",
      "Epoch [43/100], Loss: 5023470166.517007\n",
      "Epoch [44/100], Loss: 4994848741.517007\n",
      "Epoch [45/100], Loss: 4966177427.653061\n",
      "Epoch [46/100], Loss: 4939428653.612245\n",
      "Epoch [47/100], Loss: 4918369186.571428\n",
      "Epoch [48/100], Loss: 4918413878.238095\n",
      "Epoch [49/100], Loss: 4872125813.979591\n",
      "Epoch [50/100], Loss: 4838819374.972789\n",
      "Epoch [51/100], Loss: 4813378913.183674\n",
      "Epoch [52/100], Loss: 4793485205.574830\n",
      "Epoch [53/100], Loss: 4773515325.448979\n",
      "Epoch [54/100], Loss: 4745105995.142858\n",
      "Epoch [55/100], Loss: 4719922903.061225\n",
      "Epoch [56/100], Loss: 4697946419.091837\n",
      "Epoch [57/100], Loss: 4676342138.329932\n",
      "Epoch [58/100], Loss: 4664127709.751700\n",
      "Epoch [59/100], Loss: 4636875077.170068\n",
      "Epoch [60/100], Loss: 4605716998.455782\n",
      "Epoch [61/100], Loss: 4604451814.173470\n",
      "Epoch [62/100], Loss: 4593469130.948979\n",
      "Epoch [63/100], Loss: 4583103756.523809\n",
      "Epoch [64/100], Loss: 4561048936.486395\n",
      "Epoch [65/100], Loss: 4547605004.044218\n",
      "Epoch [66/100], Loss: 4523013831.108844\n",
      "Epoch [67/100], Loss: 4511233937.448979\n",
      "Epoch [68/100], Loss: 4477387079.261905\n",
      "Epoch [69/100], Loss: 4453652442.598639\n",
      "Epoch [70/100], Loss: 4431729122.782313\n",
      "Epoch [71/100], Loss: 4420792485.989796\n",
      "Epoch [72/100], Loss: 4394313352.285714\n",
      "Epoch [73/100], Loss: 4380325360.214286\n",
      "Epoch [74/100], Loss: 4357773383.020409\n",
      "Epoch [75/100], Loss: 4342193763.799319\n",
      "Epoch [76/100], Loss: 4315793899.306123\n",
      "Epoch [77/100], Loss: 4310558358.530612\n",
      "Epoch [78/100], Loss: 4288798287.673470\n",
      "Epoch [79/100], Loss: 4251601855.122449\n",
      "Epoch [80/100], Loss: 4229548954.806122\n",
      "Epoch [81/100], Loss: 4211940072.891157\n",
      "Epoch [82/100], Loss: 4229103121.693878\n",
      "Epoch [83/100], Loss: 4211116688.673470\n",
      "Epoch [84/100], Loss: 4201876910.156463\n",
      "Epoch [85/100], Loss: 4172544909.346939\n",
      "Epoch [86/100], Loss: 4152608648.506803\n",
      "Epoch [87/100], Loss: 4134656701.272109\n",
      "Epoch [88/100], Loss: 4132316698.054422\n",
      "Epoch [89/100], Loss: 4115910749.064626\n",
      "Epoch [90/100], Loss: 4101843511.925170\n",
      "Epoch [91/100], Loss: 4087963269.210885\n",
      "Epoch [92/100], Loss: 4077795552.571429\n",
      "Epoch [93/100], Loss: 4059658035.054422\n",
      "Epoch [94/100], Loss: 4084404667.156463\n",
      "Epoch [95/100], Loss: 4060016398.401361\n",
      "Epoch [96/100], Loss: 4041523558.823129\n",
      "Epoch [97/100], Loss: 4016424003.156463\n",
      "Epoch [98/100], Loss: 4003809997.755102\n",
      "Epoch [99/100], Loss: 4007927575.816327\n",
      "Epoch [100/100], Loss: 4004895763.455782\n"
     ]
    },
    {
     "data": {
      "text/plain": [
       "<Figure size 640x480 with 1 Axes>"
      ],
      "image/png": "[encoded data removed]"
     },
     "metadata": {},
     "output_type": "display_data"
    },
    {
     "data": {
      "text/plain": [
       "<All keys matched successfully>"
      ]
     },
     "execution_count": 65,
     "metadata": {},
     "output_type": "execute_result"
    }
   ],
   "execution_count": 65
  },
  {
   "metadata": {
    "ExecuteTime": {
     "end_time": "2025-02-22T17:59:24.633857Z",
     "start_time": "2025-02-22T17:59:23.792617Z"
    }
   },
   "cell_type": "code",
   "source": [
    "trained_model.eval()\n",
    "test_loss = 0.0\n",
    "test_loss_unscaled = 0.0\n",
    "with torch.no_grad():\n",
    "    for inputs, targets in test_loader:\n",
    "        # inputs = inputs.view(-1, inputs.shape[2], inputs.shape[3]).to(device)\n",
    "        # targets = targets.view(-1).to(device)\n",
    "        inputs = inputs.to(device)\n",
    "        targets = targets.to(device)\n",
    "        outputs = trained_model(inputs)\n",
    "        # print(outputs, targets)\n",
    "        # unscaled_out = test_scaler.inverse_transform(outputs.cpu())\n",
    "        # unscaled_targets = test_scaler.inverse_transform(targets.view(-1, 1).cpu())\n",
    "        # diff = abs(unscaled_out - unscaled_targets)\n",
    "        # print(unscaled_out, unscaled_targets)\n",
    "        # print(diff)\n",
    "        # print()\n",
    "        loss = criterion(outputs.squeeze(), targets)\n",
    "        test_loss += loss.item()\n",
    "        # test_loss_unscaled += np.sum(diff)\n",
    "\n",
    "print(f'Validation Loss: {test_loss/len(test_loader):.8f}')"
   ],
   "id": "bb11cf0180498e3c",
   "outputs": [
    {
     "name": "stdout",
     "output_type": "stream",
     "text": [
      "Validation Loss: 4876012221.37837791\n"
     ]
    }
   ],
   "execution_count": 66
  },
  {
   "metadata": {
    "jupyter": {
     "is_executing": true
    },
    "ExecuteTime": {
     "start_time": "2025-02-22T20:13:52.142500Z"
    }
   },
   "cell_type": "code",
   "source": [
    "import torch.optim as optim\n",
    "from torch.optim import lr_scheduler\n",
    "\n",
    "# Инициализируем модель\n",
    "model = LSTMModel(input_size=176, hidden_size=128, num_layers=2, output_size=1)\n",
    "model.apply(init_weights)\n",
    "\n",
    "model.to(device)\n",
    "\n",
    "# Функция потерь и оптимизатор\n",
    "# criterion = nn.MSELoss()\n",
    "criterion = nn.SmoothL1Loss()\n",
    "optimizer = optim.Adam(model.parameters(), lr=0.01)\n",
    "exp_lr_scheduler = lr_scheduler.StepLR(optimizer, step_size=100, gamma=0.1)\n",
    "\n",
    "# Обучение\n",
    "num_epochs = 200\n",
    "training_history, trained_model = train(model, optimizer, exp_lr_scheduler, criterion, train_loader, num_epochs)\n",
    "\n",
    "plt.plot(np.arange(num_epochs), training_history)\n",
    "plt.title(\"Training loss\")\n",
    "plt.show()\n",
    "\n",
    "    \n",
    "torch.save(trained_model.state_dict(), './lstm_model.pth')\n",
    "trained_model.load_state_dict(torch.load('./lstm_model.pth', weights_only=True))"
   ],
   "id": "9ccaa3f3bbfa7fd1",
   "outputs": [
    {
     "name": "stdout",
     "output_type": "stream",
     "text": [
      "Epoch [1/200], Loss: 65139.970811\n"
     ]
    }
   ],
   "execution_count": null
  },
  {
   "metadata": {
    "ExecuteTime": {
     "end_time": "2025-02-21T16:18:16.948386Z",
     "start_time": "2025-02-21T15:58:29.419436Z"
    }
   },
   "cell_type": "code",
   "source": [
    "import torch.optim as optim\n",
    "from torch.optim import lr_scheduler\n",
    "\n",
    "# Инициализируем модель\n",
    "model = LSTMModel(input_size=32, hidden_size=128, num_layers=2, output_size=1)\n",
    "model.apply(init_weights)\n",
    "\n",
    "model.to(device)\n",
    "\n",
    "# Функция потерь и оптимизатор\n",
    "criterion = nn.MSELoss()\n",
    "# criterion = nn.SmoothL1Loss()\n",
    "optimizer = optim.Adam(model.parameters(), lr=0.001)\n",
    "exp_lr_scheduler = lr_scheduler.StepLR(optimizer, step_size=60, gamma=1)\n",
    "\n",
    "# Обучение\n",
    "num_epochs = 200\n",
    "training_history, trained_model = train(model, optimizer, exp_lr_scheduler, criterion, train_loader, num_epochs)\n",
    "\n",
    "plt.plot(np.arange(num_epochs), training_history)\n",
    "plt.title(\"Training loss\")\n",
    "plt.show()\n",
    "\n",
    "    \n",
    "torch.save(trained_model.state_dict(), './lstm_model.pth')\n",
    "trained_model.load_state_dict(torch.load('./lstm_model.pth', weights_only=True))"
   ],
   "id": "e8c57ffb9470318f",
   "outputs": [
    {
     "name": "stdout",
     "output_type": "stream",
     "text": [
      "Epoch [1/200], Loss: 0.018134\n",
      "Epoch [2/200], Loss: 0.000871\n",
      "Epoch [3/200], Loss: 0.000596\n",
      "Epoch [4/200], Loss: 0.000479\n",
      "Epoch [5/200], Loss: 0.000407\n",
      "Epoch [6/200], Loss: 0.000351\n",
      "Epoch [7/200], Loss: 0.000324\n",
      "Epoch [8/200], Loss: 0.000327\n",
      "Epoch [9/200], Loss: 0.000289\n",
      "Epoch [10/200], Loss: 0.000263\n",
      "Epoch [11/200], Loss: 0.000250\n",
      "Epoch [12/200], Loss: 0.000203\n",
      "Epoch [13/200], Loss: 0.000177\n",
      "Epoch [14/200], Loss: 0.000183\n",
      "Epoch [15/200], Loss: 0.000155\n",
      "Epoch [16/200], Loss: 0.000184\n",
      "Epoch [17/200], Loss: 0.000162\n",
      "Epoch [18/200], Loss: 0.000145\n",
      "Epoch [19/200], Loss: 0.000141\n",
      "Epoch [20/200], Loss: 0.000118\n",
      "Epoch [21/200], Loss: 0.000120\n",
      "Epoch [22/200], Loss: 0.000113\n",
      "Epoch [23/200], Loss: 0.000110\n",
      "Epoch [24/200], Loss: 0.000118\n",
      "Epoch [25/200], Loss: 0.000112\n",
      "Epoch [26/200], Loss: 0.000098\n",
      "Epoch [27/200], Loss: 0.000102\n",
      "Epoch [28/200], Loss: 0.000095\n",
      "Epoch [29/200], Loss: 0.000091\n",
      "Epoch [30/200], Loss: 0.000086\n",
      "Epoch [31/200], Loss: 0.000087\n",
      "Epoch [32/200], Loss: 0.000075\n",
      "Epoch [33/200], Loss: 0.000086\n",
      "Epoch [34/200], Loss: 0.000082\n",
      "Epoch [35/200], Loss: 0.000075\n",
      "Epoch [36/200], Loss: 0.000069\n",
      "Epoch [37/200], Loss: 0.000078\n",
      "Epoch [38/200], Loss: 0.000069\n",
      "Epoch [39/200], Loss: 0.000071\n",
      "Epoch [40/200], Loss: 0.000069\n",
      "Epoch [41/200], Loss: 0.000078\n",
      "Epoch [42/200], Loss: 0.000058\n",
      "Epoch [43/200], Loss: 0.000062\n",
      "Epoch [44/200], Loss: 0.000064\n",
      "Epoch [45/200], Loss: 0.000067\n",
      "Epoch [46/200], Loss: 0.000062\n",
      "Epoch [47/200], Loss: 0.000061\n",
      "Epoch [48/200], Loss: 0.000055\n",
      "Epoch [49/200], Loss: 0.000059\n",
      "Epoch [50/200], Loss: 0.000063\n",
      "Epoch [51/200], Loss: 0.000055\n",
      "Epoch [52/200], Loss: 0.000053\n",
      "Epoch [53/200], Loss: 0.000056\n",
      "Epoch [54/200], Loss: 0.000057\n",
      "Epoch [55/200], Loss: 0.000052\n",
      "Epoch [56/200], Loss: 0.000051\n",
      "Epoch [57/200], Loss: 0.000050\n",
      "Epoch [58/200], Loss: 0.000049\n",
      "Epoch [59/200], Loss: 0.000051\n",
      "Epoch [60/200], Loss: 0.000050\n",
      "Epoch [61/200], Loss: 0.000048\n",
      "Epoch [62/200], Loss: 0.000044\n",
      "Epoch [63/200], Loss: 0.000066\n",
      "Epoch [64/200], Loss: 0.000045\n",
      "Epoch [65/200], Loss: 0.000043\n",
      "Epoch [66/200], Loss: 0.000044\n",
      "Epoch [67/200], Loss: 0.000047\n",
      "Epoch [68/200], Loss: 0.000043\n",
      "Epoch [69/200], Loss: 0.000041\n",
      "Epoch [70/200], Loss: 0.000048\n",
      "Epoch [71/200], Loss: 0.000042\n",
      "Epoch [72/200], Loss: 0.000041\n",
      "Epoch [73/200], Loss: 0.000041\n",
      "Epoch [74/200], Loss: 0.000040\n",
      "Epoch [75/200], Loss: 0.000040\n",
      "Epoch [76/200], Loss: 0.000040\n",
      "Epoch [77/200], Loss: 0.000043\n",
      "Epoch [78/200], Loss: 0.000038\n",
      "Epoch [79/200], Loss: 0.000040\n",
      "Epoch [80/200], Loss: 0.000038\n",
      "Epoch [81/200], Loss: 0.000038\n",
      "Epoch [82/200], Loss: 0.000038\n",
      "Epoch [83/200], Loss: 0.000036\n",
      "Epoch [84/200], Loss: 0.000040\n",
      "Epoch [85/200], Loss: 0.000036\n",
      "Epoch [86/200], Loss: 0.000038\n",
      "Epoch [87/200], Loss: 0.000034\n",
      "Epoch [88/200], Loss: 0.000035\n",
      "Epoch [89/200], Loss: 0.000034\n",
      "Epoch [90/200], Loss: 0.000038\n",
      "Epoch [91/200], Loss: 0.000036\n",
      "Epoch [92/200], Loss: 0.000040\n",
      "Epoch [93/200], Loss: 0.000031\n",
      "Epoch [94/200], Loss: 0.000032\n",
      "Epoch [95/200], Loss: 0.000034\n",
      "Epoch [96/200], Loss: 0.000033\n",
      "Epoch [97/200], Loss: 0.000032\n",
      "Epoch [98/200], Loss: 0.000034\n",
      "Epoch [99/200], Loss: 0.000033\n",
      "Epoch [100/200], Loss: 0.000032\n",
      "Epoch [101/200], Loss: 0.000032\n",
      "Epoch [102/200], Loss: 0.000032\n",
      "Epoch [103/200], Loss: 0.000031\n",
      "Epoch [104/200], Loss: 0.000033\n",
      "Epoch [105/200], Loss: 0.000031\n",
      "Epoch [106/200], Loss: 0.000034\n",
      "Epoch [107/200], Loss: 0.000029\n",
      "Epoch [108/200], Loss: 0.000030\n",
      "Epoch [109/200], Loss: 0.000033\n",
      "Epoch [110/200], Loss: 0.000031\n",
      "Epoch [111/200], Loss: 0.000028\n",
      "Epoch [112/200], Loss: 0.000030\n",
      "Epoch [113/200], Loss: 0.000032\n",
      "Epoch [114/200], Loss: 0.000029\n",
      "Epoch [115/200], Loss: 0.000029\n",
      "Epoch [116/200], Loss: 0.000028\n",
      "Epoch [117/200], Loss: 0.000031\n",
      "Epoch [118/200], Loss: 0.000028\n",
      "Epoch [119/200], Loss: 0.000030\n",
      "Epoch [120/200], Loss: 0.000028\n",
      "Epoch [121/200], Loss: 0.000030\n",
      "Epoch [122/200], Loss: 0.000027\n",
      "Epoch [123/200], Loss: 0.000028\n",
      "Epoch [124/200], Loss: 0.000026\n",
      "Epoch [125/200], Loss: 0.000029\n",
      "Epoch [126/200], Loss: 0.000027\n",
      "Epoch [127/200], Loss: 0.000029\n",
      "Epoch [128/200], Loss: 0.000027\n",
      "Epoch [129/200], Loss: 0.000025\n",
      "Epoch [130/200], Loss: 0.000027\n",
      "Epoch [131/200], Loss: 0.000028\n",
      "Epoch [132/200], Loss: 0.000026\n",
      "Epoch [133/200], Loss: 0.000024\n",
      "Epoch [134/200], Loss: 0.000025\n",
      "Epoch [135/200], Loss: 0.000028\n",
      "Epoch [136/200], Loss: 0.000026\n",
      "Epoch [137/200], Loss: 0.000024\n",
      "Epoch [138/200], Loss: 0.000026\n",
      "Epoch [139/200], Loss: 0.000024\n",
      "Epoch [140/200], Loss: 0.000025\n",
      "Epoch [141/200], Loss: 0.000024\n",
      "Epoch [142/200], Loss: 0.000025\n",
      "Epoch [143/200], Loss: 0.000023\n",
      "Epoch [144/200], Loss: 0.000026\n",
      "Epoch [145/200], Loss: 0.000024\n",
      "Epoch [146/200], Loss: 0.000025\n",
      "Epoch [147/200], Loss: 0.000023\n",
      "Epoch [148/200], Loss: 0.000025\n",
      "Epoch [149/200], Loss: 0.000023\n",
      "Epoch [150/200], Loss: 0.000023\n",
      "Epoch [151/200], Loss: 0.000024\n",
      "Epoch [152/200], Loss: 0.000024\n",
      "Epoch [153/200], Loss: 0.000024\n",
      "Epoch [154/200], Loss: 0.000023\n",
      "Epoch [155/200], Loss: 0.000024\n",
      "Epoch [156/200], Loss: 0.000024\n",
      "Epoch [157/200], Loss: 0.000022\n",
      "Epoch [158/200], Loss: 0.000022\n",
      "Epoch [159/200], Loss: 0.000023\n",
      "Epoch [160/200], Loss: 0.000024\n",
      "Epoch [161/200], Loss: 0.000023\n",
      "Epoch [162/200], Loss: 0.000023\n",
      "Epoch [163/200], Loss: 0.000031\n",
      "Epoch [164/200], Loss: 0.000020\n",
      "Epoch [165/200], Loss: 0.000022\n",
      "Epoch [166/200], Loss: 0.000022\n",
      "Epoch [167/200], Loss: 0.000021\n",
      "Epoch [168/200], Loss: 0.000021\n",
      "Epoch [169/200], Loss: 0.000022\n",
      "Epoch [170/200], Loss: 0.000021\n",
      "Epoch [171/200], Loss: 0.000021\n",
      "Epoch [172/200], Loss: 0.000022\n",
      "Epoch [173/200], Loss: 0.000020\n",
      "Epoch [174/200], Loss: 0.000021\n",
      "Epoch [175/200], Loss: 0.000020\n",
      "Epoch [176/200], Loss: 0.000021\n",
      "Epoch [177/200], Loss: 0.000020\n",
      "Epoch [178/200], Loss: 0.000021\n",
      "Epoch [179/200], Loss: 0.000021\n",
      "Epoch [180/200], Loss: 0.000021\n",
      "Epoch [181/200], Loss: 0.000019\n",
      "Epoch [182/200], Loss: 0.000021\n",
      "Epoch [183/200], Loss: 0.000018\n",
      "Epoch [184/200], Loss: 0.000020\n",
      "Epoch [185/200], Loss: 0.000022\n",
      "Epoch [186/200], Loss: 0.000020\n",
      "Epoch [187/200], Loss: 0.000018\n",
      "Epoch [188/200], Loss: 0.000019\n",
      "Epoch [189/200], Loss: 0.000020\n",
      "Epoch [190/200], Loss: 0.000018\n",
      "Epoch [191/200], Loss: 0.000021\n",
      "Epoch [192/200], Loss: 0.000019\n",
      "Epoch [193/200], Loss: 0.000019\n",
      "Epoch [194/200], Loss: 0.000018\n",
      "Epoch [195/200], Loss: 0.000019\n",
      "Epoch [196/200], Loss: 0.000020\n",
      "Epoch [197/200], Loss: 0.000020\n",
      "Epoch [198/200], Loss: 0.000017\n",
      "Epoch [199/200], Loss: 0.000018\n",
      "Epoch [200/200], Loss: 0.000020\n"
     ]
    },
    {
     "data": {
      "text/plain": [
       "<Figure size 640x480 with 1 Axes>"
      ],
      "image/png": "[encoded data removed]"
     },
     "metadata": {},
     "output_type": "display_data"
    },
    {
     "data": {
      "text/plain": [
       "<All keys matched successfully>"
      ]
     },
     "execution_count": 24,
     "metadata": {},
     "output_type": "execute_result"
    }
   ],
   "execution_count": 24
  },
  {
   "metadata": {},
   "cell_type": "markdown",
   "source": "------------------------------------------------------------------------------------------------ VALIDATION -----------------------------------------------------------------------\n",
   "id": "c18f1dd1ba92ac0"
  },
  {
   "metadata": {
    "ExecuteTime": {
     "end_time": "2025-02-21T16:27:27.724265Z",
     "start_time": "2025-02-21T16:27:26.372576Z"
    }
   },
   "cell_type": "code",
   "source": [
    "# Тестирование\n",
    "# train_loader\n",
    "# test_loader\n",
    "trained_model.eval()\n",
    "test_loss = 0.0\n",
    "test_loss_unscaled = 0.0\n",
    "with torch.no_grad():\n",
    "    for inputs, targets in test_loader:\n",
    "        # inputs = inputs.view(-1, inputs.shape[2], inputs.shape[3]).to(device)\n",
    "        # targets = targets.view(-1).to(device)\n",
    "        inputs = inputs.to(device)\n",
    "        targets = targets.to(device)\n",
    "        outputs = trained_model(inputs)\n",
    "        # print(outputs, targets)\n",
    "        # unscaled_out = test_scaler.inverse_transform(outputs.cpu())\n",
    "        # unscaled_targets = test_scaler.inverse_transform(targets.view(-1, 1).cpu())\n",
    "        # diff = abs(unscaled_out - unscaled_targets)\n",
    "        # print(unscaled_out, unscaled_targets)\n",
    "        # print(diff)\n",
    "        # print()\n",
    "        loss = criterion(outputs.squeeze(), targets)\n",
    "        test_loss += loss.item()\n",
    "        # test_loss_unscaled += np.sum(diff)\n",
    "\n",
    "print(f'Validation Loss: {test_loss/len(test_loader):.8f}')\n",
    "# print(f'Validation Loss_true: {test_loss_unscaled/len(train_loader):.8f}')"
   ],
   "id": "2f993817cfb75f4d",
   "outputs": [
    {
     "name": "stdout",
     "output_type": "stream",
     "text": [
      "Validation Loss: 1.94674204\n",
      "Validation Loss_true: 2873391.11310649\n"
     ]
    }
   ],
   "execution_count": 26
  },
  {
   "metadata": {},
   "cell_type": "code",
   "outputs": [],
   "execution_count": null,
   "source": " ",
   "id": "ae42728f22f2bdd0"
  }
 ],
 "metadata": {
  "kernelspec": {
   "display_name": "Python 3",
   "language": "python",
   "name": "python3"
  },
  "language_info": {
   "codemirror_mode": {
    "name": "ipython",
    "version": 2
   },
   "file_extension": ".py",
   "mimetype": "text/x-python",
   "name": "python",
   "nbconvert_exporter": "python",
   "pygments_lexer": "ipython2",
   "version": "2.7.6"
  }
 },
 "nbformat": 4,
 "nbformat_minor": 5
}
