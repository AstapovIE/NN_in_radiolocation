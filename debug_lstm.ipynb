{
 "cells": [
  {
   "metadata": {
    "ExecuteTime": {
     "end_time": "2025-03-06T18:11:54.417893Z",
     "start_time": "2025-03-06T18:11:54.411005Z"
    }
   },
   "cell_type": "code",
   "source": [
    "import torch\n",
    "\n",
    "device = torch.device(\"cuda\" if torch.cuda.is_available() else \"cpu\")\n",
    "# device = \"cpu\"\n",
    "print(\"device: \", device)\n",
    "\n",
    "torch.__version__"
   ],
   "id": "3c4b46f311a59e35",
   "outputs": [
    {
     "name": "stdout",
     "output_type": "stream",
     "text": [
      "device:  cuda\n"
     ]
    },
    {
     "data": {
      "text/plain": [
       "'2.5.1'"
      ]
     },
     "execution_count": 30,
     "metadata": {},
     "output_type": "execute_result"
    }
   ],
   "execution_count": 30
  },
  {
   "metadata": {
    "collapsed": true,
    "ExecuteTime": {
     "end_time": "2025-03-06T19:49:56.450608Z",
     "start_time": "2025-03-06T19:49:09.330231Z"
    }
   },
   "cell_type": "code",
   "source": [
    "import numpy as np\n",
    "import os\n",
    "import pandas as pd\n",
    "import matplotlib.pyplot as plt\n",
    "from torch.utils.data import Dataset, DataLoader\n",
    "# Константы\n",
    "num_trajectories = 200  # Количество траекторий\n",
    "num_radars = 16  # Количество радаров\n",
    "data_path = 'last_data'  # Путь к данным\n",
    "input_features = ['x_measure', 'y_measure', 'z_measure',\n",
    "                  'v_x_measure', 'v_y_measure', 'v_z_measure',\n",
    "\n",
    "                  'r_measure', 'theta_measure', 'fi_measure',\n",
    "                  'v_r_measure', 'v_theta_measure', 'v_fi_measure',\n",
    "\n",
    "                  # 'r_mean', 'theta_mean', 'fi_mean',\n",
    "                  'r_error', 'theta_error', 'fi_error',\n",
    "                  ]  # Входные признаки\n",
    "\n",
    "# input_features = ['x_measure', 'v_x_measure', 'r_measure', 'theta_measure', 'fi_measure',\n",
    "#                   'r_error', 'theta_error', 'fi_error']  # Входные признаки\n",
    "\n",
    "# input_features = ['x_measure']\n",
    "target_feature = 'x_true'  # Целевая координата\n",
    "\n",
    "def load_trajectory_data(traj_idx):\n",
    "    trajectory_data = []\n",
    "    for radar_idx in range(1, num_radars + 1):\n",
    "        file_path = os.path.join(data_path, f'traj{traj_idx}_radar{radar_idx}.csv')\n",
    "        df = pd.read_csv(file_path)\n",
    "        trajectory_data.append(df)\n",
    "    \n",
    "    # Объединение данных по временной оси для одного радара\n",
    "    return trajectory_data\n",
    "\n",
    "# Подготовка данных\n",
    "X_data, y_data = [], []\n",
    "\n",
    "for traj_idx in range(1, num_trajectories + 1):\n",
    "    trajectory_data = load_trajectory_data(traj_idx)\n",
    "    \n",
    "    # Для каждого радара, собираем последовательность (seq_length, num_features)\n",
    "    radar_data = []\n",
    "    radar_targets = []  # Список для целевых значений для каждого радара\n",
    "    for radar_idx in range(num_radars):\n",
    "        data = trajectory_data[radar_idx]\n",
    "        X = data[input_features].values  # Входные данные для радарa\n",
    "        y = data[target_feature].values  # Истинная координата\n",
    "        \n",
    "        radar_data.append(X)\n",
    "        radar_targets.append(y)\n",
    "    \n",
    "    # Преобразуем данные в форму (num_radars, seq_length, num_features)\n",
    "    X_data.append(np.array(radar_data))  # (num_radars, seq_length, num_features)\n",
    "    y_data.append(np.array(radar_targets)) # (num_radars, seq_length)\n",
    "\n",
    "# Преобразуем в numpy массивы\n",
    "X_data = np.array(X_data)  # (num_trajectories, num_radars, seq_length, num_features)\n",
    "y_data = np.array(y_data)  # (num_trajectories, num_radars, seq_length)\n",
    "\n",
    "# Заменяем NaN на 0 и Inf на большое число\n",
    "X_data = np.nan_to_num(X_data, nan=0.0, posinf=1e6, neginf=-1e6)\n",
    "y_data = np.nan_to_num(y_data, nan=0.0, posinf=1e6, neginf=-1e6)\n",
    "\n",
    "# Теперь транспонируем X_data, y_data чтобы размерность стала (num_trajectories * num_radars, seq_length, num_features)\n",
    "# X_data_raw = X_data.reshape(-1, X_data.shape[2], X_data.shape[3])  # (num_trajectories * num_radars, seq_length, num_features)\n",
    "# y_data_raw = y_data.reshape(-1, y_data.shape[2])  # (num_trajectories * num_radars, seq_length)\n",
    "\n",
    "# Проверим размерность данных\n",
    "# print(X_data_raw.shape)  # (368*16, seq_length, num_features) \n",
    "# print(y_data_raw.shape)  # (368*16, seq_length)\n",
    "print(X_data.shape)  # (368*16, seq_length, num_features) \n",
    "print(y_data.shape)  # (368*16, seq_length)\n"
   ],
   "id": "initial_id",
   "outputs": [
    {
     "name": "stdout",
     "output_type": "stream",
     "text": [
      "(200, 16, 1001, 15)\n",
      "(200, 16, 1001)\n"
     ]
    }
   ],
   "execution_count": 166
  },
  {
   "metadata": {
    "ExecuteTime": {
     "end_time": "2025-03-06T19:49:56.518397Z",
     "start_time": "2025-03-06T19:49:56.508709Z"
    }
   },
   "cell_type": "code",
   "source": [
    "train_size = int(0.8 * len(X_data))\n",
    "# train_size = int(1 * len(X_data))\n",
    "X_train, X_test = X_data[:train_size], X_data[train_size:]\n",
    "y_train, y_test = y_data[:train_size], y_data[train_size:]\n",
    "print(X_train.shape, X_test.shape)"
   ],
   "id": "9325e7b5160572d1",
   "outputs": [
    {
     "name": "stdout",
     "output_type": "stream",
     "text": [
      "(160, 16, 1001, 15) (40, 16, 1001, 15)\n"
     ]
    }
   ],
   "execution_count": 167
  },
  {
   "metadata": {
    "ExecuteTime": {
     "end_time": "2025-03-06T19:49:56.664031Z",
     "start_time": "2025-03-06T19:49:56.654018Z"
    }
   },
   "cell_type": "code",
   "source": [
    "# 111 7\n",
    "# 234 12 \n",
    "# 937\n",
    "\n",
    "class RadarDataset(Dataset):\n",
    "    def __init__(self, X, y, window_size=234, step=12):\n",
    "        self.windows_X = []\n",
    "        self.windows_y = []\n",
    "        \n",
    "        for trajectory_idx in range(X.shape[0]):  # 368 траекторий\n",
    "            trajectory_X = X[trajectory_idx]  # (16, 1001, 11)\n",
    "            trajectory_y = y[trajectory_idx]  # (16, 1001)\n",
    "            \n",
    "            # Конкатенируем данные от 16 радаров\n",
    "            trajectory_X = trajectory_X.transpose(1, 0, 2).reshape(1001, -1)  # (1001, 11*16)\n",
    "            trajectory_y = trajectory_y.mean(axis=0)  # Среднее значение x для всех радаров (1001,)\n",
    "            \n",
    "            for start in range(0, 1001 - window_size, step):\n",
    "                end = start + window_size\n",
    "                self.windows_X.append(trajectory_X[start:end, :])\n",
    "                # self.windows_y.append(trajectory_y[end-1])\n",
    "                self.windows_y.append(trajectory_y[start:end])  # Берем ВСЕ точки окна\n",
    "\n",
    "        \n",
    "        self.windows_X = torch.tensor(np.array(self.windows_X), dtype=torch.float32)\n",
    "        self.windows_y = torch.tensor(np.array(self.windows_y), dtype=torch.float32)\n",
    "        \n",
    "    def __len__(self):\n",
    "        return len(self.windows_X)\n",
    "    \n",
    "    def __getitem__(self, idx):\n",
    "        return self.windows_X[idx], self.windows_y[idx]\n",
    "    \n"
   ],
   "id": "972aeb1bb1ea2542",
   "outputs": [],
   "execution_count": 168
  },
  {
   "metadata": {
    "ExecuteTime": {
     "end_time": "2025-03-06T19:49:56.787330Z",
     "start_time": "2025-03-06T19:49:56.781849Z"
    }
   },
   "cell_type": "code",
   "source": [
    "# from sklearn.preprocessing import StandardScaler\n",
    "# import torch\n",
    "# \n",
    "# # Создаем скейлеры\n",
    "# X_scaler = StandardScaler()\n",
    "# y_scaler = StandardScaler()\n",
    "# \n",
    "# # Нормализация X (признаки)\n",
    "# X_train_scaled = X_train.copy()\n",
    "# X_test_scaled = X_test.copy()\n",
    "# \n",
    "# for i in range(16):  # По всем радарам отдельно\n",
    "#     X_train_scaled[:, i, :, :] = torch.tensor(\n",
    "#         X_scaler.fit_transform(X_train[:, i, :, :].reshape(-1, 11)).reshape(1001, 11),\n",
    "#         dtype=torch.float32\n",
    "#     )\n",
    "#     X_test_scaled[:, i, :, :] = torch.tensor(\n",
    "#         X_scaler.transform(X_test[:, i, :, :].reshape(-1, 11)).reshape(1001, 11),\n",
    "#         dtype=torch.float32\n",
    "#     )\n",
    "# \n",
    "# # Нормализация y (целевая переменная)\n",
    "# y_train_scaled = torch.tensor(\n",
    "#     y_scaler.fit_transform(y_train.reshape(-1, 1)).reshape(y_train.shape),\n",
    "#     dtype=torch.float32\n",
    "# )\n",
    "# y_test_scaled = torch.tensor(\n",
    "#     y_scaler.transform(y_test.reshape(-1, 1)).reshape(y_test.shape),\n",
    "#     dtype=torch.float32\n",
    "# )\n",
    "# \n",
    "# # Теперь передаем в RadarDataset\n",
    "# train_dataset = RadarDataset(X_train_scaled, y_train_scaled)\n",
    "# test_dataset = RadarDataset(X_test_scaled, y_test_scaled)\n"
   ],
   "id": "cb403bb2816a1724",
   "outputs": [],
   "execution_count": 169
  },
  {
   "metadata": {
    "ExecuteTime": {
     "end_time": "2025-03-06T19:49:58.527599Z",
     "start_time": "2025-03-06T19:49:58.522277Z"
    }
   },
   "cell_type": "code",
   "source": [
    "# #################################### NORMALIZE ####################################################\n",
    "# \n",
    "# from sklearn.preprocessing import StandardScaler\n",
    "# \n",
    "# # Нормализуем данные\n",
    "# train_scaler = StandardScaler()\n",
    "# test_scaler = StandardScaler()\n",
    "# # Пример нормализации для X (признаки)\n",
    "# X_train_scaled = torch.tensor(train_scaler.fit_transform(X_train.reshape(-1, X_train.shape[-1])).reshape(X_train.shape), dtype=torch.float32)\n",
    "# X_test_scaled = torch.tensor(test_scaler.fit_transform(X_test.reshape(-1, X_test.shape[-1])).reshape(X_test.shape), dtype=torch.float32)\n",
    "# \n",
    "# # Для y (цели) можно тоже использовать нормализацию или просто масштабировать в тот же диапазон\n",
    "# y_train_scaled = torch.tensor(train_scaler.transform(y_train.reshape(-1, 1)).reshape(y_train.shape), dtype=torch.float32)\n",
    "# y_test_scaled = torch.tensor(test_scaler.transform(y_test.reshape(-1, 1)).reshape(y_test.shape), dtype=torch.float32)\n",
    "# \n",
    "# print(X_train_scaled.shape)\n",
    "# \n",
    "# \n",
    "# train_dataset = RadarDataset(X_train_scaled, y_train_scaled)\n",
    "# test_dataset = RadarDataset(X_test_scaled, y_test_scaled)"
   ],
   "id": "a2da54fb908840f7",
   "outputs": [],
   "execution_count": 170
  },
  {
   "metadata": {
    "ExecuteTime": {
     "end_time": "2025-03-06T19:50:02.098326Z",
     "start_time": "2025-03-06T19:49:58.658462Z"
    }
   },
   "cell_type": "code",
   "source": [
    "# Создание датасета и DataLoader\n",
    "b_size = 64\n",
    "train_dataset = RadarDataset(X_train, y_train)\n",
    "train_loader = DataLoader(train_dataset, batch_size=b_size, shuffle=False)\n",
    "\n",
    "test_dataset = RadarDataset(X_test, y_test)\n",
    "test_loader = DataLoader(test_dataset, batch_size=b_size, shuffle=False)\n",
    "\n",
    "# Пример батча\n",
    "print(len(train_loader), len(test_loader))\n",
    "for X_batch, y_batch in train_loader:\n",
    "    print(X_batch.shape)  # (16, seq_length, num_features) для каждого батча\n",
    "    # print(X_batch.view(-1, X_batch.shape[2], X_batch.shape[3]).shape)\n",
    "    print(y_batch.shape)  # (16, seq_length)\n",
    "    # print(y_batch.view(-1).shape)\n",
    "    print(X_batch[0][233][:17], y_batch[0][233])\n",
    "    break"
   ],
   "id": "c7123aee1fe6d66e",
   "outputs": [
    {
     "name": "stdout",
     "output_type": "stream",
     "text": [
      "160 40\n",
      "torch.Size([64, 234, 240])\n",
      "torch.Size([64, 234])\n",
      "tensor([ 3.3451e+04,  1.1650e+04, -6.2469e+02,  8.7604e-02, -1.5199e-01,\n",
      "        -7.4237e-02,  3.5428e+04,  1.5884e+00,  3.3514e-01,  3.4044e-02,\n",
      "        -6.9600e-06, -3.2387e-06,  1.5183e+00,  2.1854e-03,  1.4503e-03,\n",
      "         3.3431e+04,  1.1712e+04]) tensor(33428.6992)\n"
     ]
    }
   ],
   "execution_count": 171
  },
  {
   "metadata": {
    "ExecuteTime": {
     "end_time": "2025-03-06T18:51:29.019273Z",
     "start_time": "2025-03-06T18:51:29.015239Z"
    }
   },
   "cell_type": "code",
   "source": "",
   "id": "ef55fbdd2e837189",
   "outputs": [],
   "execution_count": null
  },
  {
   "metadata": {
    "ExecuteTime": {
     "end_time": "2025-03-06T18:51:29.278071Z",
     "start_time": "2025-03-06T18:51:29.271990Z"
    }
   },
   "cell_type": "code",
   "source": [
    "# def make_windows(X, y, window_size, step): \n",
    "#     windows_X = []\n",
    "#     windows_y = []\n",
    "#     for idx in range(X.shape[0]):\n",
    "#         trajectory_X = X[idx]  # (1001, 16)\n",
    "#         trajectory_y = y[idx]  # (1001)\n",
    "# \n",
    "#         for start in range(0, trajectory_X.shape[0] - window_size, step):\n",
    "#             end = start + window_size\n",
    "#             windows_X.append(trajectory_X[start:end, :])  # Окно данных\n",
    "#             windows_y.append(trajectory_y[end-1])  # Целевая координата в конце окна\n",
    "#     \n",
    "#     windows_X = np.array(windows_X)  # (16*количество окон, 100, 16)\n",
    "#     windows_y = np.array(windows_y)  # (16*количество окон,)\n",
    "#     \n",
    "#     return torch.tensor(windows_X, dtype=torch.float32), torch.tensor(windows_y, dtype=torch.float32)   \n",
    "#     \n",
    "# X_data, y_data  = make_windows(X_data_raw, y_data_raw, 234, 12) # check determ   \n",
    "# print(X_data.shape) \n",
    "# print(y_data.shape) \n",
    "# print(len(X_data))"
   ],
   "id": "d4cddb42c2b24d15",
   "outputs": [],
   "execution_count": 129
  },
  {
   "metadata": {
    "ExecuteTime": {
     "end_time": "2025-03-06T18:51:29.618018Z",
     "start_time": "2025-03-06T18:51:29.613491Z"
    }
   },
   "cell_type": "code",
   "source": [
    "# from torch.utils.data import Dataset, DataLoader\n",
    "# import numpy as np\n",
    "# \n",
    "# class RadarDataset(Dataset):\n",
    "#     def __init__(self, X, y, window_size=1000):\n",
    "#         self.X = X\n",
    "#         self.y = y\n",
    "#         self.window_size = window_size\n",
    "#         \n",
    "#     def __len__(self):\n",
    "#         return self.X.shape[0]  # Количество траекторий\n",
    "#     \n",
    "#     def __getitem__(self, idx):\n",
    "#         return self.X[idx], self.y[idx]\n",
    "#     \n",
    "# # Параметры для DataLoader\n",
    "# window_size = 936 #если брать меньше, то больше обучающая выборка, но оперативы не хватает\n",
    "# batch_size = 128\n",
    "# \n",
    "# train_size = int(0.8 * len(X_data))\n",
    "# X_train, X_test = X_data[:train_size], X_data[train_size:]\n",
    "# y_train, y_test = y_data[:train_size], y_data[train_size:]\n",
    "# print(X_train.shape, X_test.shape)"
   ],
   "id": "bdaf0d9e5eb9db9a",
   "outputs": [],
   "execution_count": 130
  },
  {
   "metadata": {
    "ExecuteTime": {
     "end_time": "2025-03-06T18:51:29.940865Z",
     "start_time": "2025-03-06T18:51:29.936179Z"
    }
   },
   "cell_type": "code",
   "source": [
    "# train_dataset = RadarDataset(X_train, y_train, window_size=window_size)\n",
    "# test_dataset = RadarDataset(X_test, y_test, window_size=window_size)\n",
    "# print(train_dataset[0][0].shape)\n",
    "# \n",
    "# train_loader = DataLoader(train_dataset, batch_size=batch_size, shuffle=True, drop_last=True)   # Не перемешиваем данные\n",
    "# test_loader = DataLoader(test_dataset, batch_size=batch_size, shuffle=False, drop_last=True) \n",
    "# \n",
    "# print(\"len of loaders\", len(train_loader), len(test_loader))\n",
    "# \n",
    "# # Пример батча\n",
    "# for X_batch, y_batch in train_loader:\n",
    "#     print(X_batch.shape)  # (16, seq_length, num_features) для каждого батча\n",
    "#     # print(X_batch.view(-1, X_batch.shape[2], X_batch.shape[3]).shape)\n",
    "#     print(y_batch.shape)  # (16, seq_length)\n",
    "#     # print(y_batch.view(-1).shape)\n",
    "#     print(X_batch[0][199], y_batch[0])\n",
    "#     break"
   ],
   "id": "39d8a1d914bd26dd",
   "outputs": [],
   "execution_count": 131
  },
  {
   "metadata": {},
   "cell_type": "markdown",
   "source": "----------------------------------------------------------------------------------------- MODEL --------------------------------------------------------------------------------",
   "id": "7e489442e3293c65"
  },
  {
   "metadata": {
    "ExecuteTime": {
     "end_time": "2025-03-06T19:50:13.054523Z",
     "start_time": "2025-03-06T19:50:13.032373Z"
    }
   },
   "cell_type": "code",
   "source": [
    "import torch.nn as nn\n",
    "\n",
    "# Функция инициализации весов с помощью метода Xavier\n",
    "def init_weights(m):\n",
    "    if isinstance(m, nn.LSTM):\n",
    "        for name, param in m.named_parameters():\n",
    "            if 'weight' in name:\n",
    "                nn.init.xavier_uniform_(param)  # Инициализация весов\n",
    "            elif 'bias' in name:\n",
    "                nn.init.constant_(param, 0)  # Инициализация смещений нулями\n",
    "    elif isinstance(m, nn.Linear):\n",
    "        nn.init.xavier_uniform_(m.weight)  # Инициализация весов\n",
    "        nn.init.constant_(m.bias, 0)  # Инициализация смещений нулями\n",
    "\n",
    "class LSTMModel(nn.Module):\n",
    "    def __init__(self, input_size=176, hidden_size=64, num_layers=2, output_size=1, dropout=0.3):\n",
    "        super(LSTMModel, self).__init__()\n",
    "        # LSTM слой\n",
    "        self.lstm = nn.LSTM(input_size, hidden_size, num_layers, batch_first=True, dropout=dropout)\n",
    "        # Полносвязный слой для предсказания координаты x\n",
    "        # self.fc1 = nn.Linear(hidden_size, 64)\n",
    "        # self.act1 = nn.ReLU()\n",
    "        # self.fc2 = nn.Linear(64, output_size)\n",
    "        self.fc1 = nn.Linear(hidden_size, output_size)\n",
    "        \n",
    "    # def forward(self, x):\n",
    "    #     # x: [batch_size, seq_len, input_size]\n",
    "    #     lstm_out, _ = self.lstm(x)  # lstm_out: [batch_size, seq_len, hidden_size]\n",
    "    #     # last_hidden_state = lstm_out[:, -1, :]  # Берем последний временной шаг\n",
    "    #     out = self.fc1(lstm_out)  # Прогнозируем координату x\n",
    "    #     # out = self.act1(out)\n",
    "    #     # out = self.fc2(out)\n",
    "    #     return out\n",
    "    \n",
    "    #residual\n",
    "    def forward(self, x, x_measure):\n",
    "        lstm_out, _ = self.lstm(x)  # lstm_out: (batch, seq_len, hidden_size)\n",
    "        output = self.fc1(lstm_out)  # output: (batch, seq_len, 1)\n",
    "        \n",
    "        return output + x_measure.unsqueeze(-1)\n"
   ],
   "id": "81cf87ab2802d352",
   "outputs": [],
   "execution_count": 172
  },
  {
   "metadata": {},
   "cell_type": "markdown",
   "source": "---------------------------------------------------------------------------------- TRAIN ----------------------------------------------------------------------------------------",
   "id": "9cdb2e5e9794ee6c"
  },
  {
   "metadata": {
    "ExecuteTime": {
     "end_time": "2025-03-06T19:50:14.632168Z",
     "start_time": "2025-03-06T19:50:14.622637Z"
    }
   },
   "cell_type": "code",
   "source": [
    "from tqdm import tqdm\n",
    "def train(model, optimizer, scheduler, criterion, loader, epochs, clip_value=1.0):\n",
    "    history = []\n",
    "    # for epoch in tqdm(range(epochs)):\n",
    "    for epoch in range(epochs):\n",
    "        model.train()\n",
    "        running_loss = 0.0\n",
    "        for i, (inputs, targets) in enumerate(loader):\n",
    "        # for i, (inputs, targets) in tqdm(enumerate(loader), total=len(loader), desc=f'Epoch {epoch+1}/{epochs}'):\n",
    "            inputs = inputs.to(device)\n",
    "            targets = targets.to(device)\n",
    "            x_measure = inputs[:, :, 0].to(device)  # Берем x_measure из входных данных\n",
    "            # print(x_measure.shape)\n",
    "\n",
    "            # Прогноз\n",
    "            optimizer.zero_grad()\n",
    "            outputs = model(inputs, x_measure)\n",
    "            # print(targets.shape)\n",
    "            # print(outputs[:5,-5:].squeeze())\n",
    "            # print(targets[:5,-5:])\n",
    "    \n",
    "            # Вычисление ошибки\n",
    "            loss = criterion(outputs.squeeze(), targets)\n",
    "            # loss = criterion(outputs, targets)  # Теперь shape (batch, window)\n",
    "\n",
    "            loss.backward()\n",
    "        \n",
    "            # Градиентный клипинг\n",
    "            torch.nn.utils.clip_grad_norm_(model.parameters(), clip_value)\n",
    "        \n",
    "            optimizer.step()\n",
    "    \n",
    "            running_loss += loss.item()\n",
    "            \n",
    "        scheduler.step()\n",
    "    \n",
    "        print(f'Epoch [{epoch+1}/{epochs}], Loss: {running_loss/len(loader):.6f}, RootLoss {(running_loss/len(loader))**0.5:.6f}')\n",
    "        history.append(running_loss/len(loader))\n",
    "    return history, model\n",
    "    "
   ],
   "id": "a4bf72e770497083",
   "outputs": [],
   "execution_count": 173
  },
  {
   "metadata": {
    "ExecuteTime": {
     "end_time": "2025-03-06T20:11:00.749119Z",
     "start_time": "2025-03-06T20:04:02.949344Z"
    }
   },
   "cell_type": "code",
   "source": [
    "import torch.optim as optim\n",
    "from torch.optim import lr_scheduler\n",
    "\n",
    "# Инициализируем модель\n",
    "model = LSTMModel(input_size=240, hidden_size=256, num_layers=2, output_size=1)\n",
    "model.apply(init_weights)\n",
    "\n",
    "model.to(device)\n",
    "\n",
    "# Функция потерь и оптимизатор\n",
    "criterion = nn.MSELoss()\n",
    "# criterion = nn.SmoothL1Loss()\n",
    "optimizer = optim.Adam(model.parameters(), lr=0.001)\n",
    "exp_lr_scheduler = lr_scheduler.StepLR(optimizer, step_size=30, gamma=0.1)\n",
    "\n",
    "# Обучение\n",
    "num_epochs = 100\n",
    "training_history, trained_model = train(model, optimizer, exp_lr_scheduler, criterion, train_loader, num_epochs)\n",
    "\n",
    "plt.plot(np.arange(num_epochs), training_history)\n",
    "plt.title(\"Training loss\")\n",
    "plt.show()\n",
    "\n",
    "    \n",
    "torch.save(trained_model.state_dict(), './lstm_model.pth')\n",
    "trained_model.load_state_dict(torch.load('./lstm_model.pth', weights_only=True))"
   ],
   "id": "84b6273e933e73d2",
   "outputs": [
    {
     "name": "stdout",
     "output_type": "stream",
     "text": [
      "Epoch [1/100], Loss: 50040.153161, RootLoss 223.696565\n",
      "Epoch [2/100], Loss: 49287.449356, RootLoss 222.007769\n",
      "Epoch [3/100], Loss: 49375.792831, RootLoss 222.206644\n",
      "Epoch [4/100], Loss: 49509.406676, RootLoss 222.507094\n",
      "Epoch [5/100], Loss: 49158.257303, RootLoss 221.716615\n",
      "Epoch [6/100], Loss: 49664.718081, RootLoss 222.855824\n",
      "Epoch [7/100], Loss: 49182.820439, RootLoss 221.772001\n",
      "Epoch [8/100], Loss: 48993.874508, RootLoss 221.345600\n",
      "Epoch [9/100], Loss: 49329.207473, RootLoss 222.101795\n",
      "Epoch [10/100], Loss: 49120.324694, RootLoss 221.631055\n",
      "Epoch [11/100], Loss: 48810.906604, RootLoss 220.931905\n",
      "Epoch [12/100], Loss: 48739.011984, RootLoss 220.769137\n",
      "Epoch [13/100], Loss: 49084.939850, RootLoss 221.551213\n",
      "Epoch [14/100], Loss: 49092.350664, RootLoss 221.567937\n",
      "Epoch [15/100], Loss: 49009.520103, RootLoss 221.380939\n",
      "Epoch [16/100], Loss: 48790.136998, RootLoss 220.884895\n",
      "Epoch [17/100], Loss: 48374.234416, RootLoss 219.941434\n",
      "Epoch [18/100], Loss: 48781.760494, RootLoss 220.865933\n",
      "Epoch [19/100], Loss: 48317.717089, RootLoss 219.812914\n",
      "Epoch [20/100], Loss: 48303.084013, RootLoss 219.779626\n",
      "Epoch [21/100], Loss: 48073.713912, RootLoss 219.257187\n",
      "Epoch [22/100], Loss: 48019.983648, RootLoss 219.134624\n",
      "Epoch [23/100], Loss: 47616.368945, RootLoss 218.211753\n",
      "Epoch [24/100], Loss: 47133.983383, RootLoss 217.103624\n",
      "Epoch [25/100], Loss: 46968.454378, RootLoss 216.722067\n",
      "Epoch [26/100], Loss: 45464.681617, RootLoss 213.224486\n",
      "Epoch [27/100], Loss: 44523.391493, RootLoss 211.005667\n",
      "Epoch [28/100], Loss: 43220.203467, RootLoss 207.894693\n",
      "Epoch [29/100], Loss: 42772.813719, RootLoss 206.815893\n",
      "Epoch [30/100], Loss: 41994.129930, RootLoss 204.924693\n",
      "Epoch [31/100], Loss: 40212.674475, RootLoss 200.530981\n",
      "Epoch [32/100], Loss: 39817.053303, RootLoss 199.542109\n",
      "Epoch [33/100], Loss: 39754.371240, RootLoss 199.384982\n",
      "Epoch [34/100], Loss: 39406.008300, RootLoss 198.509467\n",
      "Epoch [35/100], Loss: 39178.513412, RootLoss 197.935629\n",
      "Epoch [36/100], Loss: 38873.244386, RootLoss 197.162989\n",
      "Epoch [37/100], Loss: 38756.968863, RootLoss 196.867897\n",
      "Epoch [38/100], Loss: 38447.933859, RootLoss 196.081447\n",
      "Epoch [39/100], Loss: 38308.230401, RootLoss 195.724884\n",
      "Epoch [40/100], Loss: 38014.110878, RootLoss 194.972077\n",
      "Epoch [41/100], Loss: 37956.592576, RootLoss 194.824517\n",
      "Epoch [42/100], Loss: 37757.335936, RootLoss 194.312470\n",
      "Epoch [43/100], Loss: 37473.495051, RootLoss 193.580720\n",
      "Epoch [44/100], Loss: 37450.492620, RootLoss 193.521298\n",
      "Epoch [45/100], Loss: 37315.529446, RootLoss 193.172279\n",
      "Epoch [46/100], Loss: 37125.209162, RootLoss 192.679031\n"
     ]
    },
    {
     "ename": "KeyboardInterrupt",
     "evalue": "",
     "output_type": "error",
     "traceback": [
      "\u001B[1;31m---------------------------------------------------------------------------\u001B[0m",
      "\u001B[1;31mKeyboardInterrupt\u001B[0m                         Traceback (most recent call last)",
      "Cell \u001B[1;32mIn[176], line 18\u001B[0m\n\u001B[0;32m     16\u001B[0m \u001B[38;5;66;03m# Обучение\u001B[39;00m\n\u001B[0;32m     17\u001B[0m num_epochs \u001B[38;5;241m=\u001B[39m \u001B[38;5;241m100\u001B[39m\n\u001B[1;32m---> 18\u001B[0m training_history, trained_model \u001B[38;5;241m=\u001B[39m train(model, optimizer, exp_lr_scheduler, criterion, train_loader, num_epochs)\n\u001B[0;32m     20\u001B[0m plt\u001B[38;5;241m.\u001B[39mplot(np\u001B[38;5;241m.\u001B[39marange(num_epochs), training_history)\n\u001B[0;32m     21\u001B[0m plt\u001B[38;5;241m.\u001B[39mtitle(\u001B[38;5;124m\"\u001B[39m\u001B[38;5;124mTraining loss\u001B[39m\u001B[38;5;124m\"\u001B[39m)\n",
      "Cell \u001B[1;32mIn[173], line 33\u001B[0m, in \u001B[0;36mtrain\u001B[1;34m(model, optimizer, scheduler, criterion, loader, epochs, clip_value)\u001B[0m\n\u001B[0;32m     29\u001B[0m     torch\u001B[38;5;241m.\u001B[39mnn\u001B[38;5;241m.\u001B[39mutils\u001B[38;5;241m.\u001B[39mclip_grad_norm_(model\u001B[38;5;241m.\u001B[39mparameters(), clip_value)\n\u001B[0;32m     31\u001B[0m     optimizer\u001B[38;5;241m.\u001B[39mstep()\n\u001B[1;32m---> 33\u001B[0m     running_loss \u001B[38;5;241m+\u001B[39m\u001B[38;5;241m=\u001B[39m loss\u001B[38;5;241m.\u001B[39mitem()\n\u001B[0;32m     35\u001B[0m scheduler\u001B[38;5;241m.\u001B[39mstep()\n\u001B[0;32m     37\u001B[0m \u001B[38;5;28mprint\u001B[39m(\u001B[38;5;124mf\u001B[39m\u001B[38;5;124m'\u001B[39m\u001B[38;5;124mEpoch [\u001B[39m\u001B[38;5;132;01m{\u001B[39;00mepoch\u001B[38;5;241m+\u001B[39m\u001B[38;5;241m1\u001B[39m\u001B[38;5;132;01m}\u001B[39;00m\u001B[38;5;124m/\u001B[39m\u001B[38;5;132;01m{\u001B[39;00mepochs\u001B[38;5;132;01m}\u001B[39;00m\u001B[38;5;124m], Loss: \u001B[39m\u001B[38;5;132;01m{\u001B[39;00mrunning_loss\u001B[38;5;241m/\u001B[39m\u001B[38;5;28mlen\u001B[39m(loader)\u001B[38;5;132;01m:\u001B[39;00m\u001B[38;5;124m.6f\u001B[39m\u001B[38;5;132;01m}\u001B[39;00m\u001B[38;5;124m, RootLoss \u001B[39m\u001B[38;5;132;01m{\u001B[39;00m(running_loss\u001B[38;5;241m/\u001B[39m\u001B[38;5;28mlen\u001B[39m(loader))\u001B[38;5;241m*\u001B[39m\u001B[38;5;241m*\u001B[39m\u001B[38;5;241m0.5\u001B[39m\u001B[38;5;132;01m:\u001B[39;00m\u001B[38;5;124m.6f\u001B[39m\u001B[38;5;132;01m}\u001B[39;00m\u001B[38;5;124m'\u001B[39m)\n",
      "\u001B[1;31mKeyboardInterrupt\u001B[0m: "
     ]
    }
   ],
   "execution_count": 176
  },
  {
   "metadata": {
    "ExecuteTime": {
     "end_time": "2025-03-06T19:12:51.887210Z",
     "start_time": "2025-03-06T19:05:39.857320Z"
    }
   },
   "cell_type": "code",
   "source": [
    "import torch.optim as optim\n",
    "from torch.optim import lr_scheduler\n",
    "\n",
    "# Инициализируем модель\n",
    "model = LSTMModel(input_size=240, hidden_size=128, num_layers=2, output_size=1)\n",
    "model.apply(init_weights)\n",
    "\n",
    "model.to(device)\n",
    "\n",
    "# Функция потерь и оптимизатор\n",
    "criterion = nn.MSELoss()\n",
    "# criterion = nn.SmoothL1Loss()\n",
    "optimizer = optim.Adam(model.parameters(), lr=0.001)\n",
    "exp_lr_scheduler = lr_scheduler.StepLR(optimizer, step_size=50, gamma=0.1)\n",
    "\n",
    "# Обучение\n",
    "num_epochs = 100\n",
    "training_history, trained_model = train(model, optimizer, exp_lr_scheduler, criterion, train_loader, num_epochs)\n",
    "\n",
    "plt.plot(np.arange(num_epochs), training_history)\n",
    "plt.title(\"Training loss\")\n",
    "plt.show()\n",
    "\n",
    "    \n",
    "torch.save(trained_model.state_dict(), './lstm_model.pth')\n",
    "trained_model.load_state_dict(torch.load('./lstm_model.pth', weights_only=True))"
   ],
   "id": "d45fcdab86379163",
   "outputs": [
    {
     "name": "stdout",
     "output_type": "stream",
     "text": [
      "Epoch [1/100], Loss: 50166.315869, RootLoss 223.978383\n",
      "Epoch [2/100], Loss: 49437.937115, RootLoss 222.346435\n",
      "Epoch [3/100], Loss: 49491.770051, RootLoss 222.467458\n",
      "Epoch [4/100], Loss: 49366.209248, RootLoss 222.185079\n",
      "Epoch [5/100], Loss: 49329.698183, RootLoss 222.102900\n",
      "Epoch [6/100], Loss: 49181.964878, RootLoss 221.770072\n",
      "Epoch [7/100], Loss: 49611.430133, RootLoss 222.736234\n",
      "Epoch [8/100], Loss: 49625.544879, RootLoss 222.767917\n",
      "Epoch [9/100], Loss: 49152.253890, RootLoss 221.703076\n",
      "Epoch [10/100], Loss: 48960.000920, RootLoss 221.269069\n",
      "Epoch [11/100], Loss: 49380.157272, RootLoss 222.216465\n",
      "Epoch [12/100], Loss: 49180.934334, RootLoss 221.767749\n",
      "Epoch [13/100], Loss: 49202.147337, RootLoss 221.815571\n",
      "Epoch [14/100], Loss: 48773.762644, RootLoss 220.847827\n",
      "Epoch [15/100], Loss: 48486.697820, RootLoss 220.196952\n",
      "Epoch [16/100], Loss: 47703.336778, RootLoss 218.410936\n",
      "Epoch [17/100], Loss: 47834.369623, RootLoss 218.710698\n",
      "Epoch [18/100], Loss: 47372.078239, RootLoss 217.651277\n",
      "Epoch [19/100], Loss: 46292.030698, RootLoss 215.155829\n",
      "Epoch [20/100], Loss: 45097.290345, RootLoss 212.361226\n",
      "Epoch [21/100], Loss: 44155.544843, RootLoss 210.132208\n",
      "Epoch [22/100], Loss: 43193.439811, RootLoss 207.830315\n",
      "Epoch [23/100], Loss: 42301.001625, RootLoss 205.672073\n",
      "Epoch [24/100], Loss: 41109.071250, RootLoss 202.753721\n",
      "Epoch [25/100], Loss: 40771.419452, RootLoss 201.919339\n",
      "Epoch [26/100], Loss: 42232.192747, RootLoss 205.504727\n",
      "Epoch [27/100], Loss: 41243.074920, RootLoss 203.083911\n",
      "Epoch [28/100], Loss: 40234.862720, RootLoss 200.586297\n",
      "Epoch [29/100], Loss: 38933.275233, RootLoss 197.315167\n",
      "Epoch [30/100], Loss: 39279.360378, RootLoss 198.190213\n",
      "Epoch [31/100], Loss: 38669.498268, RootLoss 196.645616\n",
      "Epoch [32/100], Loss: 38591.484486, RootLoss 196.447154\n",
      "Epoch [33/100], Loss: 36380.363455, RootLoss 190.736372\n",
      "Epoch [34/100], Loss: 36442.428169, RootLoss 190.899000\n",
      "Epoch [35/100], Loss: 34836.641709, RootLoss 186.645765\n",
      "Epoch [36/100], Loss: 33544.171726, RootLoss 183.150680\n",
      "Epoch [37/100], Loss: 32744.475496, RootLoss 180.954346\n",
      "Epoch [38/100], Loss: 33390.300394, RootLoss 182.730130\n",
      "Epoch [39/100], Loss: 33219.403729, RootLoss 182.261910\n",
      "Epoch [40/100], Loss: 32203.775663, RootLoss 179.454105\n",
      "Epoch [41/100], Loss: 30794.027853, RootLoss 175.482272\n",
      "Epoch [42/100], Loss: 30344.618209, RootLoss 174.197067\n",
      "Epoch [43/100], Loss: 31575.773832, RootLoss 177.695734\n",
      "Epoch [44/100], Loss: 31277.004096, RootLoss 176.853058\n",
      "Epoch [45/100], Loss: 31989.632458, RootLoss 178.856458\n",
      "Epoch [46/100], Loss: 31481.576090, RootLoss 177.430482\n",
      "Epoch [47/100], Loss: 30990.466411, RootLoss 176.041093\n",
      "Epoch [48/100], Loss: 29248.030763, RootLoss 171.020557\n",
      "Epoch [49/100], Loss: 29521.931685, RootLoss 171.819474\n",
      "Epoch [50/100], Loss: 29776.364251, RootLoss 172.558292\n",
      "Epoch [51/100], Loss: 30614.383627, RootLoss 174.969665\n",
      "Epoch [52/100], Loss: 29681.635242, RootLoss 172.283590\n",
      "Epoch [53/100], Loss: 30155.033686, RootLoss 173.652048\n",
      "Epoch [54/100], Loss: 30278.532268, RootLoss 174.007276\n",
      "Epoch [55/100], Loss: 26800.327563, RootLoss 163.708056\n",
      "Epoch [56/100], Loss: 27513.699310, RootLoss 165.872539\n",
      "Epoch [57/100], Loss: 29909.294837, RootLoss 172.943039\n",
      "Epoch [58/100], Loss: 34517.377181, RootLoss 185.788528\n",
      "Epoch [59/100], Loss: 32961.882240, RootLoss 181.554075\n",
      "Epoch [60/100], Loss: 32798.055348, RootLoss 181.102334\n",
      "Epoch [61/100], Loss: 31185.627857, RootLoss 176.594530\n",
      "Epoch [62/100], Loss: 30804.200244, RootLoss 175.511254\n",
      "Epoch [63/100], Loss: 29986.645016, RootLoss 173.166524\n",
      "Epoch [64/100], Loss: 29709.456661, RootLoss 172.364314\n",
      "Epoch [65/100], Loss: 29868.933516, RootLoss 172.826310\n",
      "Epoch [66/100], Loss: 29210.129520, RootLoss 170.909712\n",
      "Epoch [67/100], Loss: 29273.358771, RootLoss 171.094590\n",
      "Epoch [68/100], Loss: 29283.778540, RootLoss 171.125038\n",
      "Epoch [69/100], Loss: 29025.121691, RootLoss 170.367608\n",
      "Epoch [70/100], Loss: 29041.919760, RootLoss 170.416900\n",
      "Epoch [71/100], Loss: 29103.222256, RootLoss 170.596665\n",
      "Epoch [72/100], Loss: 29025.337948, RootLoss 170.368242\n",
      "Epoch [73/100], Loss: 28907.482171, RootLoss 170.022005\n",
      "Epoch [74/100], Loss: 28750.197157, RootLoss 169.558831\n",
      "Epoch [75/100], Loss: 28389.844789, RootLoss 168.492863\n",
      "Epoch [76/100], Loss: 28241.654265, RootLoss 168.052534\n",
      "Epoch [77/100], Loss: 28277.937206, RootLoss 168.160451\n",
      "Epoch [78/100], Loss: 27981.285899, RootLoss 167.276077\n",
      "Epoch [79/100], Loss: 27702.518698, RootLoss 166.440736\n",
      "Epoch [80/100], Loss: 27865.378055, RootLoss 166.929261\n",
      "Epoch [81/100], Loss: 28319.186543, RootLoss 168.283055\n",
      "Epoch [82/100], Loss: 27775.160030, RootLoss 166.658813\n",
      "Epoch [83/100], Loss: 27658.002152, RootLoss 166.306952\n",
      "Epoch [84/100], Loss: 27792.157455, RootLoss 166.709800\n",
      "Epoch [85/100], Loss: 27285.794847, RootLoss 165.184124\n",
      "Epoch [86/100], Loss: 27318.464300, RootLoss 165.282982\n",
      "Epoch [87/100], Loss: 27444.130642, RootLoss 165.662701\n",
      "Epoch [88/100], Loss: 27432.199877, RootLoss 165.626688\n",
      "Epoch [89/100], Loss: 27083.917531, RootLoss 164.571922\n",
      "Epoch [90/100], Loss: 27373.024140, RootLoss 165.447950\n",
      "Epoch [91/100], Loss: 27442.213810, RootLoss 165.656916\n",
      "Epoch [92/100], Loss: 26966.286492, RootLoss 164.214148\n",
      "Epoch [93/100], Loss: 27024.272419, RootLoss 164.390609\n",
      "Epoch [94/100], Loss: 26755.195009, RootLoss 163.570153\n",
      "Epoch [95/100], Loss: 26603.192196, RootLoss 163.104850\n",
      "Epoch [96/100], Loss: 26547.647760, RootLoss 162.934489\n",
      "Epoch [97/100], Loss: 26539.887162, RootLoss 162.910672\n",
      "Epoch [98/100], Loss: 26639.005890, RootLoss 163.214601\n",
      "Epoch [99/100], Loss: 26700.263900, RootLoss 163.402154\n",
      "Epoch [100/100], Loss: 26866.445901, RootLoss 163.909871\n"
     ]
    },
    {
     "data": {
      "text/plain": [
       "<Figure size 640x480 with 1 Axes>"
      ],
      "image/png": "[encoded data removed]"
     },
     "metadata": {},
     "output_type": "display_data"
    },
    {
     "data": {
      "text/plain": [
       "<All keys matched successfully>"
      ]
     },
     "execution_count": 152,
     "metadata": {},
     "output_type": "execute_result"
    }
   ],
   "execution_count": 152
  },
  {
   "metadata": {
    "ExecuteTime": {
     "end_time": "2025-03-06T19:42:53.957874Z",
     "start_time": "2025-03-06T19:42:52.670687Z"
    }
   },
   "cell_type": "code",
   "source": [
    "trained_model.eval()\n",
    "test_loss = 0.0\n",
    "test_loss_unscaled = 0.0\n",
    "with torch.no_grad():\n",
    "    for inputs, targets in test_loader:\n",
    "        # inputs = inputs.view(-1, inputs.shape[2], inputs.shape[3]).to(device)\n",
    "        # targets = targets.view(-1).to(device)\n",
    "        inputs = inputs.to(device)\n",
    "        targets = targets.to(device)\n",
    "        x_measure = inputs[:, :, 0].to(device)  # Берем x_measure из входных данных\n",
    "        outputs = trained_model(inputs, x_measure)\n",
    "        # print(outputs, targets)\n",
    "        # unscaled_out = test_scaler.inverse_transform(outputs.cpu())\n",
    "        # unscaled_targets = test_scaler.inverse_transform(targets.view(-1, 1).cpu())\n",
    "        # diff = abs(unscaled_out - unscaled_targets)\n",
    "        # print(unscaled_out, unscaled_targets)\n",
    "        # print(diff)\n",
    "        # print()\n",
    "        # loss = criterion(outputs.squeeze(), targets)\n",
    "        loss = criterion(outputs.squeeze()[:, 10:], targets[:, 10:]) \n",
    "        test_loss += loss.item()\n",
    "        # test_loss_unscaled += np.sum(diff)\n",
    "\n",
    "print(f'Validation Loss: {test_loss/len(test_loader):.8f}, RootLoss {(test_loss/len(test_loader))**0.5:.6f}')"
   ],
   "id": "bb11cf0180498e3c",
   "outputs": [
    {
     "name": "stdout",
     "output_type": "stream",
     "text": [
      "Validation Loss: 26504.96250988, RootLoss 162.803447\n"
     ]
    }
   ],
   "execution_count": 153
  },
  {
   "metadata": {
    "ExecuteTime": {
     "end_time": "2025-03-06T18:12:12.664449100Z",
     "start_time": "2025-02-22T20:16:21.896933Z"
    }
   },
   "cell_type": "code",
   "source": [
    "import torch.optim as optim\n",
    "from torch.optim import lr_scheduler\n",
    "\n",
    "# Инициализируем модель\n",
    "model = LSTMModel(input_size=176, hidden_size=128, num_layers=2, output_size=1)\n",
    "model.apply(init_weights)\n",
    "\n",
    "model.to(device)\n",
    "\n",
    "# Функция потерь и оптимизатор\n",
    "criterion = nn.MSELoss()\n",
    "# criterion = nn.SmoothL1Loss()\n",
    "optimizer = optim.Adam(model.parameters(), lr=0.01)\n",
    "exp_lr_scheduler = lr_scheduler.StepLR(optimizer, step_size=100, gamma=0.1)\n",
    "\n",
    "# Обучение\n",
    "num_epochs = 200\n",
    "training_history, trained_model = train(model, optimizer, exp_lr_scheduler, criterion, train_loader, num_epochs)\n",
    "\n",
    "plt.plot(np.arange(num_epochs), training_history)\n",
    "plt.title(\"Training loss\")\n",
    "plt.show()\n",
    "\n",
    "    \n",
    "torch.save(trained_model.state_dict(), './lstm_model.pth')\n",
    "trained_model.load_state_dict(torch.load('./lstm_model.pth', weights_only=True))"
   ],
   "id": "9ccaa3f3bbfa7fd1",
   "outputs": [
    {
     "name": "stdout",
     "output_type": "stream",
     "text": [
      "Epoch [1/200], Loss: 6021523270.448979\n",
      "Epoch [2/200], Loss: 4363611607.367347\n",
      "Epoch [3/200], Loss: 3121427757.442177\n",
      "Epoch [4/200], Loss: 2587100599.666667\n",
      "Epoch [5/200], Loss: 2643247645.006803\n",
      "Epoch [6/200], Loss: 2704830342.469388\n",
      "Epoch [7/200], Loss: 2460670136.755102\n",
      "Epoch [8/200], Loss: 2171994933.653061\n",
      "Epoch [9/200], Loss: 2090518268.183673\n",
      "Epoch [10/200], Loss: 2156482622.676871\n",
      "Epoch [11/200], Loss: 2073313847.523809\n",
      "Epoch [12/200], Loss: 2315915979.431973\n",
      "Epoch [13/200], Loss: 2242273688.163265\n",
      "Epoch [14/200], Loss: 2065833218.870748\n",
      "Epoch [15/200], Loss: 2087934471.993197\n",
      "Epoch [16/200], Loss: 2443730293.231293\n",
      "Epoch [17/200], Loss: 2139790530.751701\n",
      "Epoch [18/200], Loss: 2145310747.367347\n",
      "Epoch [19/200], Loss: 1995339810.544218\n",
      "Epoch [20/200], Loss: 2022806852.319728\n"
     ]
    },
    {
     "ename": "KeyboardInterrupt",
     "evalue": "",
     "output_type": "error",
     "traceback": [
      "\u001B[1;31m---------------------------------------------------------------------------\u001B[0m",
      "\u001B[1;31mKeyboardInterrupt\u001B[0m                         Traceback (most recent call last)",
      "Cell \u001B[1;32mIn[112], line 18\u001B[0m\n\u001B[0;32m     16\u001B[0m \u001B[38;5;66;03m# Обучение\u001B[39;00m\n\u001B[0;32m     17\u001B[0m num_epochs \u001B[38;5;241m=\u001B[39m \u001B[38;5;241m200\u001B[39m\n\u001B[1;32m---> 18\u001B[0m training_history, trained_model \u001B[38;5;241m=\u001B[39m train(model, optimizer, exp_lr_scheduler, criterion, train_loader, num_epochs)\n\u001B[0;32m     20\u001B[0m plt\u001B[38;5;241m.\u001B[39mplot(np\u001B[38;5;241m.\u001B[39marange(num_epochs), training_history)\n\u001B[0;32m     21\u001B[0m plt\u001B[38;5;241m.\u001B[39mtitle(\u001B[38;5;124m\"\u001B[39m\u001B[38;5;124mTraining loss\u001B[39m\u001B[38;5;124m\"\u001B[39m)\n",
      "Cell \u001B[1;32mIn[104], line 27\u001B[0m, in \u001B[0;36mtrain\u001B[1;34m(model, optimizer, scheduler, criterion, loader, epochs, clip_value)\u001B[0m\n\u001B[0;32m     23\u001B[0m     torch\u001B[38;5;241m.\u001B[39mnn\u001B[38;5;241m.\u001B[39mutils\u001B[38;5;241m.\u001B[39mclip_grad_norm_(model\u001B[38;5;241m.\u001B[39mparameters(), clip_value)\n\u001B[0;32m     25\u001B[0m     optimizer\u001B[38;5;241m.\u001B[39mstep()\n\u001B[1;32m---> 27\u001B[0m     running_loss \u001B[38;5;241m+\u001B[39m\u001B[38;5;241m=\u001B[39m loss\u001B[38;5;241m.\u001B[39mitem()\n\u001B[0;32m     29\u001B[0m scheduler\u001B[38;5;241m.\u001B[39mstep()\n\u001B[0;32m     31\u001B[0m \u001B[38;5;28mprint\u001B[39m(\u001B[38;5;124mf\u001B[39m\u001B[38;5;124m'\u001B[39m\u001B[38;5;124mEpoch [\u001B[39m\u001B[38;5;132;01m{\u001B[39;00mepoch\u001B[38;5;241m+\u001B[39m\u001B[38;5;241m1\u001B[39m\u001B[38;5;132;01m}\u001B[39;00m\u001B[38;5;124m/\u001B[39m\u001B[38;5;132;01m{\u001B[39;00mepochs\u001B[38;5;132;01m}\u001B[39;00m\u001B[38;5;124m], Loss: \u001B[39m\u001B[38;5;132;01m{\u001B[39;00mrunning_loss\u001B[38;5;241m/\u001B[39m\u001B[38;5;28mlen\u001B[39m(loader)\u001B[38;5;132;01m:\u001B[39;00m\u001B[38;5;124m.6f\u001B[39m\u001B[38;5;132;01m}\u001B[39;00m\u001B[38;5;124m'\u001B[39m)\n",
      "\u001B[1;31mKeyboardInterrupt\u001B[0m: "
     ]
    }
   ],
   "execution_count": 112
  },
  {
   "metadata": {
    "ExecuteTime": {
     "end_time": "2025-03-06T18:12:12.665441600Z",
     "start_time": "2025-02-21T15:58:29.419436Z"
    }
   },
   "cell_type": "code",
   "source": [
    "import torch.optim as optim\n",
    "from torch.optim import lr_scheduler\n",
    "\n",
    "# Инициализируем модель\n",
    "model = LSTMModel(input_size=32, hidden_size=128, num_layers=2, output_size=1)\n",
    "model.apply(init_weights)\n",
    "\n",
    "model.to(device)\n",
    "\n",
    "# Функция потерь и оптимизатор\n",
    "criterion = nn.MSELoss()\n",
    "# criterion = nn.SmoothL1Loss()\n",
    "optimizer = optim.Adam(model.parameters(), lr=0.001)\n",
    "exp_lr_scheduler = lr_scheduler.StepLR(optimizer, step_size=60, gamma=1)\n",
    "\n",
    "# Обучение\n",
    "num_epochs = 200\n",
    "training_history, trained_model = train(model, optimizer, exp_lr_scheduler, criterion, train_loader, num_epochs)\n",
    "\n",
    "plt.plot(np.arange(num_epochs), training_history)\n",
    "plt.title(\"Training loss\")\n",
    "plt.show()\n",
    "\n",
    "    \n",
    "torch.save(trained_model.state_dict(), './lstm_model.pth')\n",
    "trained_model.load_state_dict(torch.load('./lstm_model.pth', weights_only=True))"
   ],
   "id": "e8c57ffb9470318f",
   "outputs": [
    {
     "name": "stdout",
     "output_type": "stream",
     "text": [
      "Epoch [1/200], Loss: 0.018134\n",
      "Epoch [2/200], Loss: 0.000871\n",
      "Epoch [3/200], Loss: 0.000596\n",
      "Epoch [4/200], Loss: 0.000479\n",
      "Epoch [5/200], Loss: 0.000407\n",
      "Epoch [6/200], Loss: 0.000351\n",
      "Epoch [7/200], Loss: 0.000324\n",
      "Epoch [8/200], Loss: 0.000327\n",
      "Epoch [9/200], Loss: 0.000289\n",
      "Epoch [10/200], Loss: 0.000263\n",
      "Epoch [11/200], Loss: 0.000250\n",
      "Epoch [12/200], Loss: 0.000203\n",
      "Epoch [13/200], Loss: 0.000177\n",
      "Epoch [14/200], Loss: 0.000183\n",
      "Epoch [15/200], Loss: 0.000155\n",
      "Epoch [16/200], Loss: 0.000184\n",
      "Epoch [17/200], Loss: 0.000162\n",
      "Epoch [18/200], Loss: 0.000145\n",
      "Epoch [19/200], Loss: 0.000141\n",
      "Epoch [20/200], Loss: 0.000118\n",
      "Epoch [21/200], Loss: 0.000120\n",
      "Epoch [22/200], Loss: 0.000113\n",
      "Epoch [23/200], Loss: 0.000110\n",
      "Epoch [24/200], Loss: 0.000118\n",
      "Epoch [25/200], Loss: 0.000112\n",
      "Epoch [26/200], Loss: 0.000098\n",
      "Epoch [27/200], Loss: 0.000102\n",
      "Epoch [28/200], Loss: 0.000095\n",
      "Epoch [29/200], Loss: 0.000091\n",
      "Epoch [30/200], Loss: 0.000086\n",
      "Epoch [31/200], Loss: 0.000087\n",
      "Epoch [32/200], Loss: 0.000075\n",
      "Epoch [33/200], Loss: 0.000086\n",
      "Epoch [34/200], Loss: 0.000082\n",
      "Epoch [35/200], Loss: 0.000075\n",
      "Epoch [36/200], Loss: 0.000069\n",
      "Epoch [37/200], Loss: 0.000078\n",
      "Epoch [38/200], Loss: 0.000069\n",
      "Epoch [39/200], Loss: 0.000071\n",
      "Epoch [40/200], Loss: 0.000069\n",
      "Epoch [41/200], Loss: 0.000078\n",
      "Epoch [42/200], Loss: 0.000058\n",
      "Epoch [43/200], Loss: 0.000062\n",
      "Epoch [44/200], Loss: 0.000064\n",
      "Epoch [45/200], Loss: 0.000067\n",
      "Epoch [46/200], Loss: 0.000062\n",
      "Epoch [47/200], Loss: 0.000061\n",
      "Epoch [48/200], Loss: 0.000055\n",
      "Epoch [49/200], Loss: 0.000059\n",
      "Epoch [50/200], Loss: 0.000063\n",
      "Epoch [51/200], Loss: 0.000055\n",
      "Epoch [52/200], Loss: 0.000053\n",
      "Epoch [53/200], Loss: 0.000056\n",
      "Epoch [54/200], Loss: 0.000057\n",
      "Epoch [55/200], Loss: 0.000052\n",
      "Epoch [56/200], Loss: 0.000051\n",
      "Epoch [57/200], Loss: 0.000050\n",
      "Epoch [58/200], Loss: 0.000049\n",
      "Epoch [59/200], Loss: 0.000051\n",
      "Epoch [60/200], Loss: 0.000050\n",
      "Epoch [61/200], Loss: 0.000048\n",
      "Epoch [62/200], Loss: 0.000044\n",
      "Epoch [63/200], Loss: 0.000066\n",
      "Epoch [64/200], Loss: 0.000045\n",
      "Epoch [65/200], Loss: 0.000043\n",
      "Epoch [66/200], Loss: 0.000044\n",
      "Epoch [67/200], Loss: 0.000047\n",
      "Epoch [68/200], Loss: 0.000043\n",
      "Epoch [69/200], Loss: 0.000041\n",
      "Epoch [70/200], Loss: 0.000048\n",
      "Epoch [71/200], Loss: 0.000042\n",
      "Epoch [72/200], Loss: 0.000041\n",
      "Epoch [73/200], Loss: 0.000041\n",
      "Epoch [74/200], Loss: 0.000040\n",
      "Epoch [75/200], Loss: 0.000040\n",
      "Epoch [76/200], Loss: 0.000040\n",
      "Epoch [77/200], Loss: 0.000043\n",
      "Epoch [78/200], Loss: 0.000038\n",
      "Epoch [79/200], Loss: 0.000040\n",
      "Epoch [80/200], Loss: 0.000038\n",
      "Epoch [81/200], Loss: 0.000038\n",
      "Epoch [82/200], Loss: 0.000038\n",
      "Epoch [83/200], Loss: 0.000036\n",
      "Epoch [84/200], Loss: 0.000040\n",
      "Epoch [85/200], Loss: 0.000036\n",
      "Epoch [86/200], Loss: 0.000038\n",
      "Epoch [87/200], Loss: 0.000034\n",
      "Epoch [88/200], Loss: 0.000035\n",
      "Epoch [89/200], Loss: 0.000034\n",
      "Epoch [90/200], Loss: 0.000038\n",
      "Epoch [91/200], Loss: 0.000036\n",
      "Epoch [92/200], Loss: 0.000040\n",
      "Epoch [93/200], Loss: 0.000031\n",
      "Epoch [94/200], Loss: 0.000032\n",
      "Epoch [95/200], Loss: 0.000034\n",
      "Epoch [96/200], Loss: 0.000033\n",
      "Epoch [97/200], Loss: 0.000032\n",
      "Epoch [98/200], Loss: 0.000034\n",
      "Epoch [99/200], Loss: 0.000033\n",
      "Epoch [100/200], Loss: 0.000032\n",
      "Epoch [101/200], Loss: 0.000032\n",
      "Epoch [102/200], Loss: 0.000032\n",
      "Epoch [103/200], Loss: 0.000031\n",
      "Epoch [104/200], Loss: 0.000033\n",
      "Epoch [105/200], Loss: 0.000031\n",
      "Epoch [106/200], Loss: 0.000034\n",
      "Epoch [107/200], Loss: 0.000029\n",
      "Epoch [108/200], Loss: 0.000030\n",
      "Epoch [109/200], Loss: 0.000033\n",
      "Epoch [110/200], Loss: 0.000031\n",
      "Epoch [111/200], Loss: 0.000028\n",
      "Epoch [112/200], Loss: 0.000030\n",
      "Epoch [113/200], Loss: 0.000032\n",
      "Epoch [114/200], Loss: 0.000029\n",
      "Epoch [115/200], Loss: 0.000029\n",
      "Epoch [116/200], Loss: 0.000028\n",
      "Epoch [117/200], Loss: 0.000031\n",
      "Epoch [118/200], Loss: 0.000028\n",
      "Epoch [119/200], Loss: 0.000030\n",
      "Epoch [120/200], Loss: 0.000028\n",
      "Epoch [121/200], Loss: 0.000030\n",
      "Epoch [122/200], Loss: 0.000027\n",
      "Epoch [123/200], Loss: 0.000028\n",
      "Epoch [124/200], Loss: 0.000026\n",
      "Epoch [125/200], Loss: 0.000029\n",
      "Epoch [126/200], Loss: 0.000027\n",
      "Epoch [127/200], Loss: 0.000029\n",
      "Epoch [128/200], Loss: 0.000027\n",
      "Epoch [129/200], Loss: 0.000025\n",
      "Epoch [130/200], Loss: 0.000027\n",
      "Epoch [131/200], Loss: 0.000028\n",
      "Epoch [132/200], Loss: 0.000026\n",
      "Epoch [133/200], Loss: 0.000024\n",
      "Epoch [134/200], Loss: 0.000025\n",
      "Epoch [135/200], Loss: 0.000028\n",
      "Epoch [136/200], Loss: 0.000026\n",
      "Epoch [137/200], Loss: 0.000024\n",
      "Epoch [138/200], Loss: 0.000026\n",
      "Epoch [139/200], Loss: 0.000024\n",
      "Epoch [140/200], Loss: 0.000025\n",
      "Epoch [141/200], Loss: 0.000024\n",
      "Epoch [142/200], Loss: 0.000025\n",
      "Epoch [143/200], Loss: 0.000023\n",
      "Epoch [144/200], Loss: 0.000026\n",
      "Epoch [145/200], Loss: 0.000024\n",
      "Epoch [146/200], Loss: 0.000025\n",
      "Epoch [147/200], Loss: 0.000023\n",
      "Epoch [148/200], Loss: 0.000025\n",
      "Epoch [149/200], Loss: 0.000023\n",
      "Epoch [150/200], Loss: 0.000023\n",
      "Epoch [151/200], Loss: 0.000024\n",
      "Epoch [152/200], Loss: 0.000024\n",
      "Epoch [153/200], Loss: 0.000024\n",
      "Epoch [154/200], Loss: 0.000023\n",
      "Epoch [155/200], Loss: 0.000024\n",
      "Epoch [156/200], Loss: 0.000024\n",
      "Epoch [157/200], Loss: 0.000022\n",
      "Epoch [158/200], Loss: 0.000022\n",
      "Epoch [159/200], Loss: 0.000023\n",
      "Epoch [160/200], Loss: 0.000024\n",
      "Epoch [161/200], Loss: 0.000023\n",
      "Epoch [162/200], Loss: 0.000023\n",
      "Epoch [163/200], Loss: 0.000031\n",
      "Epoch [164/200], Loss: 0.000020\n",
      "Epoch [165/200], Loss: 0.000022\n",
      "Epoch [166/200], Loss: 0.000022\n",
      "Epoch [167/200], Loss: 0.000021\n",
      "Epoch [168/200], Loss: 0.000021\n",
      "Epoch [169/200], Loss: 0.000022\n",
      "Epoch [170/200], Loss: 0.000021\n",
      "Epoch [171/200], Loss: 0.000021\n",
      "Epoch [172/200], Loss: 0.000022\n",
      "Epoch [173/200], Loss: 0.000020\n",
      "Epoch [174/200], Loss: 0.000021\n",
      "Epoch [175/200], Loss: 0.000020\n",
      "Epoch [176/200], Loss: 0.000021\n",
      "Epoch [177/200], Loss: 0.000020\n",
      "Epoch [178/200], Loss: 0.000021\n",
      "Epoch [179/200], Loss: 0.000021\n",
      "Epoch [180/200], Loss: 0.000021\n",
      "Epoch [181/200], Loss: 0.000019\n",
      "Epoch [182/200], Loss: 0.000021\n",
      "Epoch [183/200], Loss: 0.000018\n",
      "Epoch [184/200], Loss: 0.000020\n",
      "Epoch [185/200], Loss: 0.000022\n",
      "Epoch [186/200], Loss: 0.000020\n",
      "Epoch [187/200], Loss: 0.000018\n",
      "Epoch [188/200], Loss: 0.000019\n",
      "Epoch [189/200], Loss: 0.000020\n",
      "Epoch [190/200], Loss: 0.000018\n",
      "Epoch [191/200], Loss: 0.000021\n",
      "Epoch [192/200], Loss: 0.000019\n",
      "Epoch [193/200], Loss: 0.000019\n",
      "Epoch [194/200], Loss: 0.000018\n",
      "Epoch [195/200], Loss: 0.000019\n",
      "Epoch [196/200], Loss: 0.000020\n",
      "Epoch [197/200], Loss: 0.000020\n",
      "Epoch [198/200], Loss: 0.000017\n",
      "Epoch [199/200], Loss: 0.000018\n",
      "Epoch [200/200], Loss: 0.000020\n"
     ]
    },
    {
     "data": {
      "text/plain": [
       "<Figure size 640x480 with 1 Axes>"
      ],
      "image/png": "[encoded data removed]"
     },
     "metadata": {},
     "output_type": "display_data"
    },
    {
     "data": {
      "text/plain": [
       "<All keys matched successfully>"
      ]
     },
     "execution_count": 24,
     "metadata": {},
     "output_type": "execute_result"
    }
   ],
   "execution_count": 24
  },
  {
   "metadata": {},
   "cell_type": "markdown",
   "source": "------------------------------------------------------------------------------------------------ VALIDATION -----------------------------------------------------------------------\n",
   "id": "c18f1dd1ba92ac0"
  },
  {
   "metadata": {
    "ExecuteTime": {
     "end_time": "2025-03-06T18:12:12.665441600Z",
     "start_time": "2025-02-21T16:27:26.372576Z"
    }
   },
   "cell_type": "code",
   "source": [
    "# Тестирование\n",
    "# train_loader\n",
    "# test_loader\n",
    "trained_model.eval()\n",
    "test_loss = 0.0\n",
    "test_loss_unscaled = 0.0\n",
    "with torch.no_grad():\n",
    "    for inputs, targets in test_loader:\n",
    "        # inputs = inputs.view(-1, inputs.shape[2], inputs.shape[3]).to(device)\n",
    "        # targets = targets.view(-1).to(device)\n",
    "        inputs = inputs.to(device)\n",
    "        targets = targets.to(device)\n",
    "        outputs = trained_model(inputs)\n",
    "        # print(outputs, targets)\n",
    "        # unscaled_out = test_scaler.inverse_transform(outputs.cpu())\n",
    "        # unscaled_targets = test_scaler.inverse_transform(targets.view(-1, 1).cpu())\n",
    "        # diff = abs(unscaled_out - unscaled_targets)\n",
    "        # print(unscaled_out, unscaled_targets)\n",
    "        # print(diff)\n",
    "        # print()\n",
    "        loss = criterion(outputs.squeeze(), targets)\n",
    "        test_loss += loss.item()\n",
    "        # test_loss_unscaled += np.sum(diff)\n",
    "\n",
    "print(f'Validation Loss: {test_loss/len(test_loader):.8f}')\n",
    "# print(f'Validation Loss_true: {test_loss_unscaled/len(train_loader):.8f}')"
   ],
   "id": "2f993817cfb75f4d",
   "outputs": [
    {
     "name": "stdout",
     "output_type": "stream",
     "text": [
      "Validation Loss: 1.94674204\n",
      "Validation Loss_true: 2873391.11310649\n"
     ]
    }
   ],
   "execution_count": 26
  },
  {
   "metadata": {},
   "cell_type": "code",
   "outputs": [],
   "execution_count": null,
   "source": " ",
   "id": "ae42728f22f2bdd0"
  },
  {
   "metadata": {},
   "cell_type": "code",
   "outputs": [],
   "execution_count": null,
   "source": "",
   "id": "d4f600ce8f3f266a"
  },
  {
   "metadata": {},
   "cell_type": "code",
   "outputs": [],
   "execution_count": null,
   "source": "",
   "id": "1e09a85d21458f6f"
  },
  {
   "metadata": {},
   "cell_type": "code",
   "outputs": [],
   "execution_count": null,
   "source": "",
   "id": "c97b64e2d3b0c16"
  },
  {
   "metadata": {},
   "cell_type": "code",
   "outputs": [],
   "execution_count": null,
   "source": "",
   "id": "9a47b97f68a097c7"
  },
  {
   "metadata": {},
   "cell_type": "code",
   "outputs": [],
   "execution_count": null,
   "source": "",
   "id": "84333a219af1a7f2"
  },
  {
   "metadata": {},
   "cell_type": "code",
   "outputs": [],
   "execution_count": null,
   "source": "",
   "id": "a649ab7549828821"
  },
  {
   "metadata": {},
   "cell_type": "code",
   "outputs": [],
   "execution_count": null,
   "source": "",
   "id": "a05d9b48ed11245"
  }
 ],
 "metadata": {
  "kernelspec": {
   "display_name": "Python 3",
   "language": "python",
   "name": "python3"
  },
  "language_info": {
   "codemirror_mode": {
    "name": "ipython",
    "version": 2
   },
   "file_extension": ".py",
   "mimetype": "text/x-python",
   "name": "python",
   "nbconvert_exporter": "python",
   "pygments_lexer": "ipython2",
   "version": "2.7.6"
  }
 },
 "nbformat": 4,
 "nbformat_minor": 5
}
